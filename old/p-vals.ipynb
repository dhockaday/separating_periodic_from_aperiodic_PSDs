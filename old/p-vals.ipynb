{
 "cells": [
  {
   "cell_type": "code",
   "execution_count": 1,
   "metadata": {},
   "outputs": [],
   "source": [
    "import matplotlib.pyplot as plt\n",
    "import numpy as np"
   ]
  },
  {
   "cell_type": "code",
   "execution_count": 9,
   "metadata": {},
   "outputs": [
    {
     "data": {
      "text/plain": [
       "<matplotlib.colorbar.Colorbar at 0x7fd55fa65af0>"
      ]
     },
     "execution_count": 9,
     "metadata": {},
     "output_type": "execute_result"
    },
    {
     "data": {
      "image/png": "[encoded data removed]",
      "text/plain": [
       "<Figure size 288x288 with 2 Axes>"
      ]
     },
     "metadata": {
      "needs_background": "light"
     },
     "output_type": "display_data"
    }
   ],
   "source": [
    "P = np.load(\"subj1_coherence_p.npz\")\n",
    "\n",
    "freq = 10 # Index 10 entspricht 20Hz\n",
    "\n",
    "plt.matshow(P[\"imag_p\"][:,:,freq])\n",
    "plt.colorbar()"
   ]
  },
  {
   "cell_type": "code",
   "execution_count": 10,
   "metadata": {},
   "outputs": [
    {
     "data": {
      "text/plain": [
       "(array([[0., 0., 0., 0., 0., 0., 0., 0., 0., 9.],\n",
       "        [0., 0., 0., 0., 0., 0., 0., 0., 0., 9.],\n",
       "        [1., 0., 0., 0., 0., 0., 0., 0., 0., 8.],\n",
       "        [0., 0., 0., 0., 0., 0., 0., 0., 0., 9.],\n",
       "        [0., 0., 0., 0., 0., 0., 0., 0., 0., 9.],\n",
       "        [0., 0., 0., 0., 0., 0., 0., 0., 0., 9.],\n",
       "        [0., 0., 0., 0., 0., 0., 0., 0., 0., 9.],\n",
       "        [0., 0., 0., 0., 0., 0., 0., 0., 0., 9.],\n",
       "        [0., 0., 0., 0., 0., 0., 0., 0., 0., 9.]]),\n",
       " array([0.92814371, 0.93532934, 0.94251497, 0.9497006 , 0.95688623,\n",
       "        0.96407186, 0.97125749, 0.97844311, 0.98562874, 0.99281437,\n",
       "        1.        ]),\n",
       " <a list of 9 BarContainer objects>)"
      ]
     },
     "execution_count": 10,
     "metadata": {},
     "output_type": "execute_result"
    },
    {
     "data": {
      "image/png": "[encoded data removed]",
      "text/plain": [
       "<Figure size 432x288 with 1 Axes>"
      ]
     },
     "metadata": {
      "needs_background": "light"
     },
     "output_type": "display_data"
    }
   ],
   "source": [
    "plt.hist(P[\"imag_p\"][:,:,freq])"
   ]
  },
  {
   "cell_type": "code",
   "execution_count": 11,
   "metadata": {},
   "outputs": [
    {
     "data": {
      "text/plain": [
       "<matplotlib.colorbar.Colorbar at 0x7fd5607189a0>"
      ]
     },
     "execution_count": 11,
     "metadata": {},
     "output_type": "execute_result"
    },
    {
     "data": {
      "image/png": "[encoded data removed]",
      "text/plain": [
       "<Figure size 288x288 with 2 Axes>"
      ]
     },
     "metadata": {
      "needs_background": "light"
     },
     "output_type": "display_data"
    }
   ],
   "source": [
    "plt.matshow(P[\"mag_p\"][:,:,freq])\n",
    "plt.colorbar()"
   ]
  },
  {
   "cell_type": "code",
   "execution_count": 12,
   "metadata": {
    "scrolled": false
   },
   "outputs": [
    {
     "data": {
      "text/plain": [
       "(array([[1., 0., 1., 0., 0., 0., 0., 0., 0., 7.],\n",
       "        [0., 0., 0., 0., 0., 0., 0., 0., 0., 9.],\n",
       "        [0., 0., 0., 0., 0., 0., 0., 0., 0., 9.],\n",
       "        [1., 0., 0., 0., 0., 0., 0., 0., 0., 8.],\n",
       "        [1., 0., 0., 0., 0., 1., 0., 0., 0., 7.],\n",
       "        [0., 0., 0., 0., 0., 0., 0., 0., 0., 9.],\n",
       "        [0., 0., 0., 0., 0., 0., 0., 0., 0., 9.],\n",
       "        [0., 0., 0., 0., 0., 0., 0., 0., 0., 9.],\n",
       "        [0., 0., 0., 0., 0., 0., 0., 0., 0., 9.]]),\n",
       " array([0.00199601, 0.10179641, 0.20159681, 0.30139721, 0.4011976 ,\n",
       "        0.500998  , 0.6007984 , 0.7005988 , 0.8003992 , 0.9001996 ,\n",
       "        1.        ]),\n",
       " <a list of 9 BarContainer objects>)"
      ]
     },
     "execution_count": 12,
     "metadata": {},
     "output_type": "execute_result"
    },
    {
     "data": {
      "image/png": "[encoded data removed]",
      "text/plain": [
       "<Figure size 432x288 with 1 Axes>"
      ]
     },
     "metadata": {
      "needs_background": "light"
     },
     "output_type": "display_data"
    }
   ],
   "source": [
    "plt.hist(P[\"mag_p\"][:,:,freq])"
   ]
  },
  {
   "cell_type": "code",
   "execution_count": 15,
   "metadata": {},
   "outputs": [
    {
     "data": {
      "text/plain": [
       "0.2654690618762475"
      ]
     },
     "execution_count": 15,
     "metadata": {},
     "output_type": "execute_result"
    }
   ],
   "source": [
    "p_lM1_SMA = P[\"mag_p\"][1, 0, freq]\n",
    "p_lM1_SMA"
   ]
  },
  {
   "cell_type": "code",
   "execution_count": 16,
   "metadata": {},
   "outputs": [
    {
     "data": {
      "text/plain": [
       "0.001996007984031936"
      ]
     },
     "execution_count": 16,
     "metadata": {},
     "output_type": "execute_result"
    }
   ],
   "source": [
    "p_rM1_SMA = P[\"mag_p\"][2, 0, freq]\n",
    "p_rM1_SMA"
   ]
  },
  {
   "cell_type": "code",
   "execution_count": 20,
   "metadata": {},
   "outputs": [
    {
     "data": {
      "text/plain": [
       "1.0"
      ]
     },
     "execution_count": 20,
     "metadata": {},
     "output_type": "execute_result"
    }
   ],
   "source": [
    "p_rM1_lM1 = P[\"mag_p\"][2, 1, freq]\n",
    "p_rM1_lM1"
   ]
  },
  {
   "cell_type": "code",
   "execution_count": 27,
   "metadata": {},
   "outputs": [
    {
     "data": {
      "text/plain": [
       "(array([2.800e+02, 1.300e+01, 1.000e+01, 5.000e+00, 1.400e+01, 1.500e+01,\n",
       "        7.000e+00, 1.000e+01, 1.700e+01, 2.401e+04]),\n",
       " array([0.00199601, 0.10179641, 0.20159681, 0.30139721, 0.4011976 ,\n",
       "        0.500998  , 0.6007984 , 0.7005988 , 0.8003992 , 0.9001996 ,\n",
       "        1.        ]),\n",
       " <BarContainer object of 10 artists>)"
      ]
     },
     "execution_count": 27,
     "metadata": {},
     "output_type": "execute_result"
    },
    {
     "data": {
      "image/png": "[encoded data removed]",
      "text/plain": [
       "<Figure size 432x288 with 1 Axes>"
      ]
     },
     "metadata": {
      "needs_background": "light"
     },
     "output_type": "display_data"
    }
   ],
   "source": [
    "plt.hist(P[\"imag_p\"].flatten())"
   ]
  },
  {
   "cell_type": "code",
   "execution_count": 28,
   "metadata": {},
   "outputs": [
    {
     "data": {
      "text/plain": [
       "(array([7.7200e+02, 3.6000e+01, 2.1000e+01, 2.2000e+01, 1.9000e+01,\n",
       "        1.9000e+01, 1.7000e+01, 9.0000e+00, 2.7000e+01, 2.3439e+04]),\n",
       " array([0.00199601, 0.10179641, 0.20159681, 0.30139721, 0.4011976 ,\n",
       "        0.500998  , 0.6007984 , 0.7005988 , 0.8003992 , 0.9001996 ,\n",
       "        1.        ]),\n",
       " <BarContainer object of 10 artists>)"
      ]
     },
     "execution_count": 28,
     "metadata": {},
     "output_type": "execute_result"
    },
    {
     "data": {
      "image/png": "[encoded data removed]",
      "text/plain": [
       "<Figure size 432x288 with 1 Axes>"
      ]
     },
     "metadata": {
      "needs_background": "light"
     },
     "output_type": "display_data"
    }
   ],
   "source": [
    "plt.hist(P[\"mag_p\"].flatten())"
   ]
  },
  {
   "cell_type": "code",
   "execution_count": null,
   "metadata": {},
   "outputs": [],
   "source": []
  }
 ],
 "metadata": {
  "kernelspec": {
   "display_name": "Python 3",
   "language": "python",
   "name": "python3"
  },
  "language_info": {
   "codemirror_mode": {
    "name": "ipython",
    "version": 3
   },
   "file_extension": ".py",
   "mimetype": "text/x-python",
   "name": "python",
   "nbconvert_exporter": "python",
   "pygments_lexer": "ipython3",
   "version": "3.8.5"
  }
 },
 "nbformat": 4,
 "nbformat_minor": 4
}
