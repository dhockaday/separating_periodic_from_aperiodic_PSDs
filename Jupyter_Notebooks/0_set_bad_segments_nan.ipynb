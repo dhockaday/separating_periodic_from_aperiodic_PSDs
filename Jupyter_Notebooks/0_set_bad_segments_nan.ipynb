{
 "cells": [
  {
   "cell_type": "code",
   "execution_count": 1,
   "metadata": {},
   "outputs": [],
   "source": [
    "import os\n",
    "import mne\n",
    "import matplotlib.pyplot as plt\n",
    "import numpy as np\n",
    "%matplotlib tk"
   ]
  },
  {
   "cell_type": "code",
   "execution_count": 2,
   "metadata": {},
   "outputs": [],
   "source": [
    "# =============================================================================\n",
    "# Create MNE Info\n",
    "# =============================================================================\n",
    "ch_names = ['SMA', 'leftM1', 'rightM1',\n",
    "            'STN_R01', 'STN_R12', 'STN_R23',\n",
    "            'STN_L01', 'STN_L12', 'STN_L23',\n",
    "            'EMG_R', 'EMG_L',\n",
    "            'HEOG', 'VEOG',\n",
    "            'event']\n",
    "sfreq = 2400\n",
    "ch_types = [\"mag\", \"mag\", \"mag\",\n",
    "            \"seeg\", \"seeg\", \"seeg\", \"seeg\", \"seeg\", \"seeg\",\n",
    "            \"emg\", \"emg\",\n",
    "            \"eog\", \"eog\",\n",
    "            \"stim\"]\n",
    "\n",
    "info = mne.create_info(ch_names, sfreq, ch_types, verbose=True)\n",
    "info[\"highpass\"] = 1\n",
    "info[\"lowpass\"] = 600"
   ]
  },
  {
   "cell_type": "code",
   "execution_count": 3,
   "metadata": {},
   "outputs": [],
   "source": [
    "plot_options = {\n",
    "            \"duration\": 10,\n",
    "            \"n_channels\": 20,\n",
    "            \"scalings\": dict(mag=400, seeg=12, eog=100, emg=500, stim=1),\n",
    "            \"color\": dict(mag='darkblue', seeg='black', eog='grey', emg='brown',stim='k'),\n",
    "            \"group_by\": \"original\"\n",
    "            }"
   ]
  },
  {
   "cell_type": "code",
   "execution_count": 6,
   "metadata": {},
   "outputs": [
    {
     "name": "stdout",
     "output_type": "stream",
     "text": [
      "Subject 12 has 1 files.\n",
      "Creating RawArray with float64 data, n_channels=14, n_times=460800\n",
      "    Range : 0 ... 460799 =      0.000 ...   192.000 secs\n",
      "Ready.\n"
     ]
    }
   ],
   "source": [
    "# =============================================================================\n",
    "# LOAD SUBJECTS\n",
    "# =============================================================================\n",
    "subj = 11\n",
    "cond = \"off\"\n",
    "\n",
    "path = '../../../data/0_raw/rest/subj'\n",
    "path_subj = path + f'{subj+1}/{cond}/'  # subjects start at 1\n",
    "fnames = os.listdir(path_subj)  # load first file only\n",
    "real_fnames = [fname for fname in fnames if fname[0] != \".\"] # delete the wird \".DS_Store\" files\n",
    "print(f\"Subject {subj+1} has {len(real_fnames)} files.\")\n",
    "\n",
    "raws = []\n",
    "for fname in real_fnames:\n",
    "    raws.append(mne.io.read_raw_fieldtrip(path_subj + fname,\n",
    "                                     info, data_name='data'))"
   ]
  },
  {
   "cell_type": "markdown",
   "metadata": {},
   "source": [
    "# Check Raw data of all channels for each subject entire recording"
   ]
  },
  {
   "cell_type": "code",
   "execution_count": 7,
   "metadata": {},
   "outputs": [],
   "source": [
    "for i, raw in enumerate(raws):\n",
    "    fig = raw.plot(title=real_fnames[i], **plot_options)"
   ]
  },
  {
   "cell_type": "markdown",
   "metadata": {},
   "source": [
    "...mark bad segments..."
   ]
  },
  {
   "cell_type": "markdown",
   "metadata": {},
   "source": [
    "# Then:"
   ]
  },
  {
   "cell_type": "markdown",
   "metadata": {},
   "source": [
    "#### Store the annotations"
   ]
  },
  {
   "cell_type": "code",
   "execution_count": 14,
   "metadata": {},
   "outputs": [
    {
     "data": {
      "text/plain": [
       "[[(119478, 121794),\n",
       "  (160399, 160797),\n",
       "  (193009, 196419),\n",
       "  (246840, 248997),\n",
       "  (258352, 266147),\n",
       "  (382747, 383671),\n",
       "  (431761, 432079),\n",
       "  (448742, 455970)],\n",
       " []]"
      ]
     },
     "execution_count": 14,
     "metadata": {},
     "output_type": "execute_result"
    }
   ],
   "source": [
    "bad_segments = [raw.annotations.copy() for raw in raws]\n",
    "\n",
    "reject_indices = []\n",
    "for bad_segs in bad_segments:\n",
    "    reject_indices.append([(int(seg[\"onset\"]*sfreq), int((seg[\"onset\"] + seg[\"duration\"])*sfreq)) for seg in bad_segs])\n",
    "reject_indices"
   ]
  },
  {
   "cell_type": "markdown",
   "metadata": {},
   "source": [
    "#### Extract as numpy array"
   ]
  },
  {
   "cell_type": "code",
   "execution_count": 15,
   "metadata": {},
   "outputs": [],
   "source": [
    "arrays = [arr.get_data() for arr in raws]\n",
    "\n",
    "for array, reject_index in zip(arrays, reject_indices):\n",
    "    for reject in reject_index:\n",
    "        array[:, reject[0]:reject[1]] = np.nan"
   ]
  },
  {
   "cell_type": "markdown",
   "metadata": {},
   "source": [
    "# Save numpy and fif:"
   ]
  },
  {
   "cell_type": "code",
   "execution_count": 16,
   "metadata": {},
   "outputs": [
    {
     "name": "stdout",
     "output_type": "stream",
     "text": [
      "Writing /Users/moritzgerster/Documents/Code/Litvak11/data/1_raw_clean_fif/rest/subj1/off/subj1_on_R1_raw.fif\n",
      "Closing /Users/moritzgerster/Documents/Code/Litvak11/data/1_raw_clean_fif/rest/subj1/off/subj1_on_R1_raw.fif [done]\n"
     ]
    },
    {
     "ename": "FileExistsError",
     "evalue": "Destination file exists. Please use option \"overwrite=True\" to force overwriting.",
     "output_type": "error",
     "traceback": [
      "\u001b[0;31m---------------------------------------------------------------------------\u001b[0m",
      "\u001b[0;31mFileExistsError\u001b[0m                           Traceback (most recent call last)",
      "\u001b[0;32m<ipython-input-16-b8e78348d02b>\u001b[0m in \u001b[0;36m<module>\u001b[0;34m\u001b[0m\n\u001b[1;32m      5\u001b[0m \u001b[0;34m\u001b[0m\u001b[0m\n\u001b[1;32m      6\u001b[0m \u001b[0;32mfor\u001b[0m \u001b[0mraw\u001b[0m\u001b[0;34m,\u001b[0m \u001b[0mfname\u001b[0m \u001b[0;32min\u001b[0m \u001b[0mzip\u001b[0m\u001b[0;34m(\u001b[0m\u001b[0mraws\u001b[0m\u001b[0;34m,\u001b[0m \u001b[0mreal_fnames\u001b[0m\u001b[0;34m)\u001b[0m\u001b[0;34m:\u001b[0m\u001b[0;34m\u001b[0m\u001b[0;34m\u001b[0m\u001b[0m\n\u001b[0;32m----> 7\u001b[0;31m     \u001b[0mraw\u001b[0m\u001b[0;34m.\u001b[0m\u001b[0msave\u001b[0m\u001b[0;34m(\u001b[0m\u001b[0mpath_fif\u001b[0m \u001b[0;34m+\u001b[0m \u001b[0mfname\u001b[0m\u001b[0;34m[\u001b[0m\u001b[0;34m:\u001b[0m\u001b[0;34m-\u001b[0m\u001b[0;36m4\u001b[0m\u001b[0;34m]\u001b[0m \u001b[0;34m+\u001b[0m \u001b[0;34m\"_raw.fif\"\u001b[0m\u001b[0;34m)\u001b[0m\u001b[0;34m\u001b[0m\u001b[0;34m\u001b[0m\u001b[0m\n\u001b[0m",
      "\u001b[0;32m<decorator-gen-169>\u001b[0m in \u001b[0;36msave\u001b[0;34m(self, fname, picks, tmin, tmax, buffer_size_sec, drop_small_buffer, proj, fmt, overwrite, split_size, split_naming, verbose)\u001b[0m\n",
      "\u001b[0;32m/opt/anaconda3/lib/python3.8/site-packages/mne/io/base.py\u001b[0m in \u001b[0;36msave\u001b[0;34m(self, fname, picks, tmin, tmax, buffer_size_sec, drop_small_buffer, proj, fmt, overwrite, split_size, split_naming, verbose)\u001b[0m\n\u001b[1;32m   1376\u001b[0m \u001b[0;34m\u001b[0m\u001b[0m\n\u001b[1;32m   1377\u001b[0m         \u001b[0;31m# check for file existence\u001b[0m\u001b[0;34m\u001b[0m\u001b[0;34m\u001b[0m\u001b[0;34m\u001b[0m\u001b[0m\n\u001b[0;32m-> 1378\u001b[0;31m         \u001b[0m_check_fname\u001b[0m\u001b[0;34m(\u001b[0m\u001b[0mfname\u001b[0m\u001b[0;34m,\u001b[0m \u001b[0moverwrite\u001b[0m\u001b[0;34m)\u001b[0m\u001b[0;34m\u001b[0m\u001b[0;34m\u001b[0m\u001b[0m\n\u001b[0m\u001b[1;32m   1379\u001b[0m \u001b[0;34m\u001b[0m\u001b[0m\n\u001b[1;32m   1380\u001b[0m         \u001b[0;32mif\u001b[0m \u001b[0mproj\u001b[0m\u001b[0;34m:\u001b[0m\u001b[0;34m\u001b[0m\u001b[0;34m\u001b[0m\u001b[0m\n",
      "\u001b[0;32m/opt/anaconda3/lib/python3.8/site-packages/mne/utils/check.py\u001b[0m in \u001b[0;36m_check_fname\u001b[0;34m(fname, overwrite, must_exist, name, allow_dir)\u001b[0m\n\u001b[1;32m    154\u001b[0m     \u001b[0;32mif\u001b[0m \u001b[0mop\u001b[0m\u001b[0;34m.\u001b[0m\u001b[0misfile\u001b[0m\u001b[0;34m(\u001b[0m\u001b[0mfname\u001b[0m\u001b[0;34m)\u001b[0m \u001b[0;32mor\u001b[0m \u001b[0;34m(\u001b[0m\u001b[0mallow_dir\u001b[0m \u001b[0;32mand\u001b[0m \u001b[0mop\u001b[0m\u001b[0;34m.\u001b[0m\u001b[0misdir\u001b[0m\u001b[0;34m(\u001b[0m\u001b[0mfname\u001b[0m\u001b[0;34m)\u001b[0m\u001b[0;34m)\u001b[0m\u001b[0;34m:\u001b[0m\u001b[0;34m\u001b[0m\u001b[0;34m\u001b[0m\u001b[0m\n\u001b[1;32m    155\u001b[0m         \u001b[0;32mif\u001b[0m \u001b[0;32mnot\u001b[0m \u001b[0moverwrite\u001b[0m\u001b[0;34m:\u001b[0m\u001b[0;34m\u001b[0m\u001b[0;34m\u001b[0m\u001b[0m\n\u001b[0;32m--> 156\u001b[0;31m             raise FileExistsError('Destination file exists. Please use option '\n\u001b[0m\u001b[1;32m    157\u001b[0m                                   '\"overwrite=True\" to force overwriting.')\n\u001b[1;32m    158\u001b[0m         \u001b[0;32melif\u001b[0m \u001b[0moverwrite\u001b[0m \u001b[0;34m!=\u001b[0m \u001b[0;34m'read'\u001b[0m\u001b[0;34m:\u001b[0m\u001b[0;34m\u001b[0m\u001b[0;34m\u001b[0m\u001b[0m\n",
      "\u001b[0;31mFileExistsError\u001b[0m: Destination file exists. Please use option \"overwrite=True\" to force overwriting."
     ]
    }
   ],
   "source": [
    "path_fif = f\"../../../data/1_raw_clean_fif/rest/subj{subj+1}/{cond}/\"\n",
    "\n",
    "if not os.path.exists(path_fif):\n",
    "    os.makedirs(path_fif)\n",
    "\n",
    "for raw, fname in zip(raws, real_fnames):\n",
    "    raw.save(path_fif + fname[:-4] + \"_raw.fif\")"
   ]
  },
  {
   "cell_type": "code",
   "execution_count": 17,
   "metadata": {},
   "outputs": [],
   "source": [
    "path_npy = f\"../../../data/1_clean_numpy/rest/subj{subj+1}/{cond}/\"\n",
    "\n",
    "if not os.path.exists(path_npy):\n",
    "    os.makedirs(path_npy)\n",
    "\n",
    "for arr, fname in zip(arrays, real_fnames):\n",
    "    np.save(path_npy + fname[:-4] + \"_raw.npy\", arr)"
   ]
  },
  {
   "cell_type": "markdown",
   "metadata": {},
   "source": [
    "### Optional:\n",
    "... test if annotations are correct:"
   ]
  },
  {
   "cell_type": "code",
   "execution_count": 58,
   "metadata": {},
   "outputs": [
    {
     "name": "stdout",
     "output_type": "stream",
     "text": [
      "Opening raw data file ../../data/raw_annotated_fif/rest/subj1/on/subj1_on_R7_raw.fif...\n",
      "Isotrak not found\n",
      "    Range : 0 ... 455999 =      0.000 ...   190.000 secs\n",
      "Ready.\n"
     ]
    }
   ],
   "source": [
    "test = mne.io.read_raw_fif(path_fif + fname[:-4] + \"_raw.fif\", info)\n",
    "_ = test.plot(title=fname[:-4], **plot_options)"
   ]
  },
  {
   "cell_type": "code",
   "execution_count": null,
   "metadata": {},
   "outputs": [],
   "source": []
  }
 ],
 "metadata": {
  "kernelspec": {
   "display_name": "Python 3",
   "language": "python",
   "name": "python3"
  },
  "language_info": {
   "codemirror_mode": {
    "name": "ipython",
    "version": 3
   },
   "file_extension": ".py",
   "mimetype": "text/x-python",
   "name": "python",
   "nbconvert_exporter": "python",
   "pygments_lexer": "ipython3",
   "version": "3.8.5"
  }
 },
 "nbformat": 4,
 "nbformat_minor": 4
}
