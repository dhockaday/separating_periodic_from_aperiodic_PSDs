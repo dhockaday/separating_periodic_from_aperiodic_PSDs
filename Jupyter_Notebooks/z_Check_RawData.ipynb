{
 "cells": [
  {
   "cell_type": "code",
   "execution_count": 1,
   "metadata": {},
   "outputs": [],
   "source": [
    "#!/usr/bin/env python3\n",
    "# -*- coding: utf-8 -*-\n",
    "\"\"\"\n",
    "Created on Sun Nov  1 07:36:29 2020\n",
    "\n",
    "@author: moritzgerster\n",
    "\"\"\"\n",
    "import os\n",
    "import mne\n",
    "import matplotlib as mpl\n",
    "import matplotlib.pyplot as plt\n",
    "#mpl.use('TkAgg')\n",
    "#matplotlib qt\n",
    "%matplotlib tk"
   ]
  },
  {
   "cell_type": "code",
   "execution_count": 2,
   "metadata": {},
   "outputs": [],
   "source": [
    "# %%\n",
    "# =============================================================================\n",
    "# Create MNE Info\n",
    "# =============================================================================\n",
    "ch_names = ['SMA', 'leftM1', 'rightM1',\n",
    "            'STN_R01', 'STN_R12', 'STN_R23',\n",
    "            'STN_L01', 'STN_L12', 'STN_L23',\n",
    "            'EMG_R', 'EMG_L',\n",
    "            'HEOG', 'VEOG',\n",
    "            'event']\n",
    "sfreq = 2400\n",
    "ch_types = [\"mag\", \"mag\", \"mag\",\n",
    "            \"seeg\", \"seeg\", \"seeg\", \"seeg\", \"seeg\", \"seeg\",\n",
    "            \"emg\", \"emg\",\n",
    "            \"eog\", \"eog\",\n",
    "            \"stim\"]\n",
    "\n",
    "info = mne.create_info(ch_names, sfreq, ch_types, verbose=True)"
   ]
  },
  {
   "cell_type": "code",
   "execution_count": 101,
   "metadata": {},
   "outputs": [
    {
     "name": "stdout",
     "output_type": "stream",
     "text": [
      "Creating RawArray with float64 data, n_channels=14, n_times=456000\n",
      "    Range : 0 ... 455999 =      0.000 ...   190.000 secs\n",
      "Ready.\n",
      "Creating RawArray with float64 data, n_channels=14, n_times=456000\n",
      "    Range : 0 ... 455999 =      0.000 ...   190.000 secs\n",
      "Ready.\n"
     ]
    }
   ],
   "source": [
    "# %%\n",
    "# =============================================================================\n",
    "# LOAD SUBJECTS\n",
    "# =============================================================================\n",
    "n_sub = 0\n",
    "path = '../../data/raw/rest/subj'\n",
    "\n",
    "cond = \"on\"\n",
    "raw_on = []\n",
    "\n",
    "for subj in range(n_sub):\n",
    "    path_subj = path + f'{subj+1}/{cond}/'  # subjects start at 1\n",
    "    fname = os.listdir(path_subj)[0]  # load first file only\n",
    "    if fname == \".DS_Store\":\n",
    "        fname = os.listdir(path_subj)[1]\n",
    "    data_subj = mne.io.read_raw_fieldtrip(path_subj + fname,\n",
    "                                          info, data_name='data')\n",
    "    raw_on.append(data_subj)"
   ]
  },
  {
   "cell_type": "code",
   "execution_count": 102,
   "metadata": {},
   "outputs": [
    {
     "name": "stdout",
     "output_type": "stream",
     "text": [
      "Creating RawArray with float64 data, n_channels=14, n_times=456000\n",
      "    Range : 0 ... 455999 =      0.000 ...   190.000 secs\n",
      "Ready.\n",
      "Creating RawArray with float64 data, n_channels=14, n_times=444000\n",
      "    Range : 0 ... 443999 =      0.000 ...   185.000 secs\n",
      "Ready.\n"
     ]
    }
   ],
   "source": [
    "cond = \"off\"\n",
    "raw_off = []\n",
    "\n",
    "for subj in range(n_sub):\n",
    "    path_subj = path + f'{subj+1}/{cond}/'  # subjects start at 1\n",
    "    fname = os.listdir(path_subj)[0]  # load first file only\n",
    "    data_subj = mne.io.read_raw_fieldtrip(path_subj + fname,\n",
    "                                          info, data_name='data')\n",
    "    raw_off.append(data_subj)"
   ]
  },
  {
   "cell_type": "markdown",
   "metadata": {},
   "source": [
    "# Check Raw data of all channels for each subject entire recording"
   ]
  },
  {
   "cell_type": "code",
   "execution_count": 9,
   "metadata": {},
   "outputs": [],
   "source": [
    "#          [(low_f, high_f, f_range, n_ch)]\n",
    "filtered = [(None, None, \"Raw\", 20)]\n",
    "subj = 0\n",
    "\n",
    "for filt in filtered:\n",
    "    \n",
    "    fig = raw_off[subj].plot(title=f\"Subj: {subj+1} Off \" + filt[2],\n",
    "                duration=190,\n",
    "                n_channels=filt[3],\n",
    "                scalings=dict(mag=400, seeg=12, eog=100, emg=500, stim=1),\n",
    "                color = dict(mag='darkblue', seeg='black', eog='grey', emg='brown',stim='k'),\n",
    "                highpass=filt[0], lowpass=filt[1],\n",
    "                group_by=\"original\")\n",
    "\n",
    "    fig = raw_on[subj].plot(title=f\"Subj: {subj+1} On \" + filt[2],\n",
    "                    duration=190,\n",
    "                    n_channels=filt[3],\n",
    "                    scalings=dict(mag=400, seeg=12, eog=100, emg=500, stim=1),\n",
    "                    color = dict(mag='darkblue', seeg='black', eog='grey', emg='brown',stim='k'),\n",
    "                    highpass=filt[0], lowpass=filt[1],\n",
    "                    group_by=\"original\")\n",
    "        \n",
    "\n",
    "  #  break"
   ]
  },
  {
   "cell_type": "markdown",
   "metadata": {},
   "source": [
    "# Store the annotations"
   ]
  },
  {
   "cell_type": "code",
   "execution_count": 29,
   "metadata": {},
   "outputs": [],
   "source": [
    "bads = raw_on[subj].annotations.copy()"
   ]
  },
  {
   "cell_type": "markdown",
   "metadata": {},
   "source": [
    "# Save as list"
   ]
  },
  {
   "cell_type": "code",
   "execution_count": 98,
   "metadata": {},
   "outputs": [
    {
     "name": "stdout",
     "output_type": "stream",
     "text": [
      "[(15.950760296010298, 18.020172136422136), (35.99055662805663, 36.878550514800516), (43.181494208494215, 45.70648552123553), (83.58155019305019, 83.84408751608751), (102.03435842985843, 103.07678603603604), (139.10027734877735, 141.03842052767055), (141.94957947232948, 143.10783236808237), (144.67350836550838, 146.00936003861005), (156.0125958815959, 164.05859266409269), (185.94611486486485, 189.72974099099096)]\n",
      "[(38281, 43248), (86377, 88508), (103635, 109695), (200595, 201225), (244882, 247384), (333840, 338492), (340678, 343458), (347216, 350422), (374430, 393740), (446270, 455351)]\n"
     ]
    }
   ],
   "source": [
    "# print segements:\n",
    "s_rate = 2400\n",
    "reject_times = [(b[\"onset\"], b[\"onset\"] + b[\"duration\"]) for b in bads]\n",
    "reject_indices = [(np.int(b[\"onset\"]*s_rate), np.int((b[\"onset\"] + b[\"duration\"])*s_rate)) for b in bads]\n",
    "\n",
    "print(reject_times)\n",
    "print(reject_indices)"
   ]
  },
  {
   "cell_type": "markdown",
   "metadata": {},
   "source": [
    "# Plot with and without bad segments:"
   ]
  },
  {
   "cell_type": "code",
   "execution_count": 48,
   "metadata": {},
   "outputs": [
    {
     "name": "stdout",
     "output_type": "stream",
     "text": [
      "Effective window size : 0.853 (s)\n",
      "Effective window size : 0.853 (s)\n",
      "Setting 55318 of 456000 (12.13%) samples to NaN, retaining 400682 (87.87%) samples.\n",
      "Effective window size : 0.853 (s)\n",
      "Setting 55318 of 456000 (12.13%) samples to NaN, retaining 400682 (87.87%) samples.\n",
      "Effective window size : 0.853 (s)\n"
     ]
    },
    {
     "name": "stderr",
     "output_type": "stream",
     "text": [
      "<ipython-input-48-712dc2bebcd0>:1: RuntimeWarning: Channel locations not available. Disabling spatial colors.\n",
      "  raw_on[subj].plot_psd(fmax=600, reject_by_annotation=False)\n",
      "<ipython-input-48-712dc2bebcd0>:2: RuntimeWarning: Channel locations not available. Disabling spatial colors.\n",
      "  raw_on[subj].plot_psd(fmax=600, reject_by_annotation=True)\n",
      "Exception in Tkinter callback\n",
      "Traceback (most recent call last):\n",
      "  File \"/opt/anaconda3/lib/python3.8/tkinter/__init__.py\", line 1883, in __call__\n",
      "    return self.func(*args)\n",
      "  File \"/opt/anaconda3/lib/python3.8/tkinter/__init__.py\", line 804, in callit\n",
      "    func(*args)\n",
      "  File \"/opt/anaconda3/lib/python3.8/site-packages/matplotlib/backends/_backend_tk.py\", line 270, in idle_draw\n",
      "    self.draw()\n",
      "  File \"/opt/anaconda3/lib/python3.8/site-packages/matplotlib/backends/backend_tkagg.py\", line 9, in draw\n",
      "    super(FigureCanvasTkAgg, self).draw()\n",
      "  File \"/opt/anaconda3/lib/python3.8/site-packages/matplotlib/backends/backend_agg.py\", line 393, in draw\n",
      "    self.figure.draw(self.renderer)\n",
      "  File \"/opt/anaconda3/lib/python3.8/site-packages/matplotlib/backend_bases.py\", line 1556, in _draw\n",
      "    def _draw(renderer): raise Done(renderer)\n",
      "matplotlib.backend_bases._get_renderer.<locals>.Done: <matplotlib.backends.backend_agg.RendererAgg object at 0x7fb2d1674670>\n"
     ]
    },
    {
     "data": {
      "image/png": "[encoded data removed]",
      "text/plain": [
       "<Figure size 640x480 with 2 Axes>"
      ]
     },
     "execution_count": 48,
     "metadata": {},
     "output_type": "execute_result"
    }
   ],
   "source": [
    "raw_on[subj].plot_psd(fmax=600, reject_by_annotation=False)\n",
    "raw_on[subj].plot_psd(fmax=600, reject_by_annotation=True)"
   ]
  },
  {
   "cell_type": "markdown",
   "metadata": {},
   "source": [
    "# Save as numpy with annotations"
   ]
  },
  {
   "cell_type": "code",
   "execution_count": 50,
   "metadata": {},
   "outputs": [
    {
     "name": "stdout",
     "output_type": "stream",
     "text": [
      "Writing /Users/moritzgerster/Documents/Code/Litvak11/code/Jupyter_Notebooks/subj0_raw_on.fif\n",
      "Closing /Users/moritzgerster/Documents/Code/Litvak11/code/Jupyter_Notebooks/subj0_raw_on.fif\n",
      "[done]\n"
     ]
    },
    {
     "name": "stderr",
     "output_type": "stream",
     "text": [
      "<ipython-input-50-14f0b82c113e>:1: RuntimeWarning: This filename (/Users/moritzgerster/Documents/Code/Litvak11/code/Jupyter_Notebooks/subj0_raw_on.fif) does not conform to MNE naming conventions. All raw files should end with raw.fif, raw_sss.fif, raw_tsss.fif, raw.fif.gz, raw_sss.fif.gz, raw_tsss.fif.gz or _meg.fif\n",
      "  raw_on[subj].save('subj0_raw_on.fif')\n"
     ]
    }
   ],
   "source": [
    "raw_on[subj].save('subj0_raw_on.fif')"
   ]
  },
  {
   "cell_type": "code",
   "execution_count": 85,
   "metadata": {},
   "outputs": [
    {
     "data": {
      "text/plain": [
       "15.950760296010298"
      ]
     },
     "execution_count": 85,
     "metadata": {},
     "output_type": "execute_result"
    }
   ],
   "source": [
    "bads[0][\"onset\"]"
   ]
  },
  {
   "cell_type": "code",
   "execution_count": 53,
   "metadata": {},
   "outputs": [],
   "source": [
    "df = raw_on[subj].to_data_frame()"
   ]
  },
  {
   "cell_type": "code",
   "execution_count": 80,
   "metadata": {},
   "outputs": [
    {
     "name": "stdout",
     "output_type": "stream",
     "text": [
      "<class 'pandas.core.frame.DataFrame'>\n",
      "RangeIndex: 456000 entries, 0 to 455999\n",
      "Data columns (total 15 columns):\n",
      " #   Column   Non-Null Count   Dtype  \n",
      "---  ------   --------------   -----  \n",
      " 0   time     456000 non-null  int64  \n",
      " 1   SMA      456000 non-null  float64\n",
      " 2   leftM1   456000 non-null  float64\n",
      " 3   rightM1  456000 non-null  float64\n",
      " 4   STN_R01  456000 non-null  float64\n",
      " 5   STN_R12  456000 non-null  float64\n",
      " 6   STN_R23  456000 non-null  float64\n",
      " 7   STN_L01  456000 non-null  float64\n",
      " 8   STN_L12  456000 non-null  float64\n",
      " 9   STN_L23  456000 non-null  float64\n",
      " 10  EMG_R    456000 non-null  float64\n",
      " 11  EMG_L    456000 non-null  float64\n",
      " 12  HEOG     456000 non-null  float64\n",
      " 13  VEOG     456000 non-null  float64\n",
      " 14  event    456000 non-null  float64\n",
      "dtypes: float64(14), int64(1)\n",
      "memory usage: 52.2 MB\n"
     ]
    }
   ],
   "source": [
    "df.info()"
   ]
  },
  {
   "cell_type": "code",
   "execution_count": 55,
   "metadata": {},
   "outputs": [],
   "source": [
    "df_SMA = df[\"SMA\"]"
   ]
  },
  {
   "cell_type": "code",
   "execution_count": 60,
   "metadata": {},
   "outputs": [],
   "source": [
    "import numpy as np\n",
    "SMA_npy = np.array(df_SMA)"
   ]
  },
  {
   "cell_type": "code",
   "execution_count": 61,
   "metadata": {},
   "outputs": [
    {
     "data": {
      "text/plain": [
       "array([-8.48410492e+16, -9.48888779e+16, -1.25271561e+17, ...,\n",
       "        8.19193344e+16,  7.73924484e+16,  7.28402863e+16])"
      ]
     },
     "execution_count": 61,
     "metadata": {},
     "output_type": "execute_result"
    }
   ],
   "source": [
    "SMA_npy"
   ]
  },
  {
   "cell_type": "code",
   "execution_count": 104,
   "metadata": {},
   "outputs": [],
   "source": [
    "filtered = [(None, None, \"Raw\", 20)]\n",
    "subj = 1\n",
    "\n",
    "for filt in filtered:\n",
    "    \n",
    "    fig = raw_off[subj].plot(title=f\"Subj: {subj+1} Off \" + filt[2],\n",
    "                duration=10,\n",
    "                n_channels=filt[3],\n",
    "                scalings=dict(mag=400, seeg=12, eog=100, emg=500, stim=1),\n",
    "                color = dict(mag='darkblue', seeg='black', eog='grey', emg='brown',stim='k'),\n",
    "                highpass=filt[0], lowpass=filt[1],\n",
    "                group_by=\"original\")"
   ]
  },
  {
   "cell_type": "code",
   "execution_count": 107,
   "metadata": {},
   "outputs": [],
   "source": [
    "filtered = [(None, None, \"Raw\", 20)]\n",
    "subj = 1\n",
    "\n",
    "for filt in filtered:\n",
    "    \n",
    "    fig = raw_on[subj].plot(title=f\"Subj: {subj+1} On \" + filt[2],\n",
    "                duration=10,\n",
    "                n_channels=filt[3],\n",
    "                scalings=dict(mag=400, seeg=12, eog=100, emg=500, stim=1),\n",
    "                color = dict(mag='darkblue', seeg='black', eog='grey', emg='brown',stim='k'),\n",
    "                highpass=filt[0], lowpass=filt[1],\n",
    "                group_by=\"original\")"
   ]
  },
  {
   "cell_type": "code",
   "execution_count": 99,
   "metadata": {},
   "outputs": [
    {
     "name": "stdout",
     "output_type": "stream",
     "text": [
      "Setting up band-pass filter from 12 - 30 Hz\n",
      "\n",
      "IIR filter parameters\n",
      "---------------------\n",
      "Butterworth bandpass zero-phase (two-pass forward and reverse) non-causal filter:\n",
      "- Filter order 16 (effective, after forward-backward)\n",
      "- Cutoffs at 12.00, 30.00 Hz: -6.02, -6.02 dB\n",
      "\n"
     ]
    },
    {
     "name": "stderr",
     "output_type": "stream",
     "text": [
      "Traceback (most recent call last):\n",
      "  File \"/opt/anaconda3/lib/python3.8/site-packages/matplotlib/cbook/__init__.py\", line 196, in process\n",
      "    func(*args, **kwargs)\n",
      "  File \"/opt/anaconda3/lib/python3.8/site-packages/mne/viz/utils.py\", line 802, in _resize_event\n",
      "    _update_borders(params, new_width, new_height)\n",
      "  File \"/opt/anaconda3/lib/python3.8/site-packages/mne/viz/utils.py\", line 608, in _update_borders\n",
      "    params['zen_w_delta'] *= old_width / new_width\n",
      "KeyError: 'zen_w_delta'\n"
     ]
    },
    {
     "name": "stdout",
     "output_type": "stream",
     "text": [
      "Setting up band-pass filter from 1 - 4 Hz\n",
      "\n",
      "IIR filter parameters\n",
      "---------------------\n",
      "Butterworth bandpass zero-phase (two-pass forward and reverse) non-causal filter:\n",
      "- Filter order 16 (effective, after forward-backward)\n",
      "- Cutoffs at 1.00, 4.00 Hz: -6.02, -6.02 dB\n",
      "\n",
      "Setting up band-pass filter from 0.01 - 1 Hz\n",
      "\n",
      "IIR filter parameters\n",
      "---------------------\n",
      "Butterworth bandpass zero-phase (two-pass forward and reverse) non-causal filter:\n",
      "- Filter order 16 (effective, after forward-backward)\n",
      "- Cutoffs at 0.01, 1.00 Hz: -6.02, -6.02 dB\n",
      "\n"
     ]
    }
   ],
   "source": [
    "filtered = [(12, 30, \"beta\", 9), (1, 4, \"delta\", 9), (0.01, 1, \"low artefact 0-1Hz\", 9)]\n",
    "subj = 0\n",
    "\n",
    "for filt in filtered:\n",
    "    fig = raw_off[subj].plot(title=f\"Subj: {subj+1} Off \" + filt[2],\n",
    "                    duration=190,\n",
    "                    n_channels=filt[3],\n",
    "                    scalings=dict(mag=400, seeg=8),#, eog=100, emg=500, stim=1),\n",
    "                    color = dict(mag='darkblue', seeg='black', eog='grey', emg='brown',stim='k'),\n",
    "                    highpass=filt[0], lowpass=filt[1],\n",
    "                    group_by=\"original\")\n"
   ]
  },
  {
   "cell_type": "code",
   "execution_count": null,
   "metadata": {},
   "outputs": [],
   "source": []
  },
  {
   "cell_type": "code",
   "execution_count": null,
   "metadata": {},
   "outputs": [],
   "source": []
  },
  {
   "cell_type": "markdown",
   "metadata": {},
   "source": [
    "# Check Frequency Band filtered Raw data of Brain channels for each subject entire recording"
   ]
  },
  {
   "cell_type": "code",
   "execution_count": 6,
   "metadata": {},
   "outputs": [
    {
     "ename": "IndexError",
     "evalue": "list index out of range",
     "output_type": "error",
     "traceback": [
      "\u001b[0;31m---------------------------------------------------------------------------\u001b[0m",
      "\u001b[0;31mIndexError\u001b[0m                                Traceback (most recent call last)",
      "\u001b[0;32m<ipython-input-6-31fb58b32fc2>\u001b[0m in \u001b[0;36m<module>\u001b[0;34m\u001b[0m\n\u001b[1;32m      3\u001b[0m \u001b[0;34m\u001b[0m\u001b[0m\n\u001b[1;32m      4\u001b[0m \u001b[0;32mfor\u001b[0m \u001b[0mfilt\u001b[0m \u001b[0;32min\u001b[0m \u001b[0mfiltered\u001b[0m\u001b[0;34m:\u001b[0m\u001b[0;34m\u001b[0m\u001b[0;34m\u001b[0m\u001b[0m\n\u001b[0;32m----> 5\u001b[0;31m     fig = raw_off[subj].plot(title=f\"Subj: {subj+1} Off \" + filt[2],\n\u001b[0m\u001b[1;32m      6\u001b[0m                     \u001b[0mduration\u001b[0m\u001b[0;34m=\u001b[0m\u001b[0;36m190\u001b[0m\u001b[0;34m,\u001b[0m\u001b[0;34m\u001b[0m\u001b[0;34m\u001b[0m\u001b[0m\n\u001b[1;32m      7\u001b[0m                     \u001b[0mn_channels\u001b[0m\u001b[0;34m=\u001b[0m\u001b[0mfilt\u001b[0m\u001b[0;34m[\u001b[0m\u001b[0;36m3\u001b[0m\u001b[0;34m]\u001b[0m\u001b[0;34m,\u001b[0m\u001b[0;34m\u001b[0m\u001b[0;34m\u001b[0m\u001b[0m\n",
      "\u001b[0;31mIndexError\u001b[0m: list index out of range"
     ]
    }
   ],
   "source": [
    "filtered = [(12, 30, \"beta\", 9), (1, 4, \"delta\", 9), (0.01, 1, \"low artefact 0-1Hz\", 9)]\n",
    "subj = 7\n",
    "\n",
    "for filt in filtered:\n",
    "    fig = raw_off[subj].plot(title=f\"Subj: {subj+1} Off \" + filt[2],\n",
    "                    duration=190,\n",
    "                    n_channels=filt[3],\n",
    "                    scalings=dict(mag=400, seeg=8),#, eog=100, emg=500, stim=1),\n",
    "                    color = dict(mag='darkblue', seeg='black', eog='grey', emg='brown',stim='k'),\n",
    "                    highpass=filt[0], lowpass=filt[1],\n",
    "                    group_by=\"original\")\n",
    "\n",
    "    fig = raw_on[subj].plot(title=f\"Subj: {subj+1} On \" + filt[2],\n",
    "                duration=190,\n",
    "                n_channels=filt[3],\n",
    "                scalings=dict(mag=400, seeg=8),#, eog=100, emg=500, stim=1),\n",
    "                color = dict(mag='darkblue', seeg='black', eog='grey', emg='brown',stim='k'),\n",
    "                highpass=filt[0], lowpass=filt[1],\n",
    "                group_by=\"original\")\n"
   ]
  },
  {
   "cell_type": "markdown",
   "metadata": {},
   "source": [
    "# Check Raw data of all channels for each subject 1 second"
   ]
  },
  {
   "cell_type": "code",
   "execution_count": 10,
   "metadata": {},
   "outputs": [],
   "source": [
    "#          [(low_f, high_f, f_range, n_ch)]\n",
    "filtered = [(None, None, \"Raw\", 20)]\n",
    "subj = 1\n",
    "\n",
    "for filt in filtered:\n",
    "    \n",
    "    fig = raw_off[subj].plot(title=f\"Subj: {subj+1} Off \" + filt[2],\n",
    "                duration=1,\n",
    "                n_channels=filt[3],\n",
    "                scalings=dict(mag=400, seeg=12, eog=100, emg=500, stim=1),\n",
    "                color = dict(mag='darkblue', seeg='black', eog='grey', emg='brown',stim='k'),\n",
    "                highpass=filt[0], lowpass=filt[1],\n",
    "                group_by=\"original\")\n",
    "\n",
    "    fig = raw_on[subj].plot(title=f\"Subj: {subj+1} On \" + filt[2],\n",
    "                    duration=1,\n",
    "                    n_channels=filt[3],\n",
    "                    scalings=dict(mag=400, seeg=12, eog=100, emg=500, stim=1),\n",
    "                    color = dict(mag='darkblue', seeg='black', eog='grey', emg='brown',stim='k'),\n",
    "                    highpass=filt[0], lowpass=filt[1],\n",
    "                    group_by=\"original\")\n",
    "        \n",
    "\n",
    "  #  break"
   ]
  },
  {
   "cell_type": "markdown",
   "metadata": {},
   "source": [
    "# Check Frequency Band filtered Raw data of Brain channels for each subject entire recording"
   ]
  },
  {
   "cell_type": "code",
   "execution_count": 11,
   "metadata": {},
   "outputs": [
    {
     "name": "stdout",
     "output_type": "stream",
     "text": [
      "Setting up band-pass filter from 12 - 30 Hz\n",
      "\n",
      "IIR filter parameters\n",
      "---------------------\n",
      "Butterworth bandpass zero-phase (two-pass forward and reverse) non-causal filter:\n",
      "- Filter order 16 (effective, after forward-backward)\n",
      "- Cutoffs at 12.00, 30.00 Hz: -6.02, -6.02 dB\n",
      "\n",
      "Setting up band-pass filter from 12 - 30 Hz\n",
      "\n",
      "IIR filter parameters\n",
      "---------------------\n",
      "Butterworth bandpass zero-phase (two-pass forward and reverse) non-causal filter:\n",
      "- Filter order 16 (effective, after forward-backward)\n",
      "- Cutoffs at 12.00, 30.00 Hz: -6.02, -6.02 dB\n",
      "\n",
      "Setting up band-pass filter from 1 - 4 Hz\n",
      "\n",
      "IIR filter parameters\n",
      "---------------------\n",
      "Butterworth bandpass zero-phase (two-pass forward and reverse) non-causal filter:\n",
      "- Filter order 16 (effective, after forward-backward)\n",
      "- Cutoffs at 1.00, 4.00 Hz: -6.02, -6.02 dB\n",
      "\n",
      "Setting up band-pass filter from 1 - 4 Hz\n",
      "\n",
      "IIR filter parameters\n",
      "---------------------\n",
      "Butterworth bandpass zero-phase (two-pass forward and reverse) non-causal filter:\n",
      "- Filter order 16 (effective, after forward-backward)\n",
      "- Cutoffs at 1.00, 4.00 Hz: -6.02, -6.02 dB\n",
      "\n",
      "Setting up band-pass filter from 0.01 - 1 Hz\n",
      "\n",
      "IIR filter parameters\n",
      "---------------------\n",
      "Butterworth bandpass zero-phase (two-pass forward and reverse) non-causal filter:\n",
      "- Filter order 16 (effective, after forward-backward)\n",
      "- Cutoffs at 0.01, 1.00 Hz: -6.02, -6.02 dB\n",
      "\n",
      "Setting up band-pass filter from 0.01 - 1 Hz\n",
      "\n",
      "IIR filter parameters\n",
      "---------------------\n",
      "Butterworth bandpass zero-phase (two-pass forward and reverse) non-causal filter:\n",
      "- Filter order 16 (effective, after forward-backward)\n",
      "- Cutoffs at 0.01, 1.00 Hz: -6.02, -6.02 dB\n",
      "\n"
     ]
    }
   ],
   "source": [
    "filtered = [(12, 30, \"beta\", 9), (1, 4, \"delta\", 9), (0.01, 1, \"low artefact 0-1Hz\", 9)]\n",
    "subj = 8\n",
    "\n",
    "for filt in filtered:\n",
    "    fig = raw_off[subj].plot(title=f\"Subj: {subj+1} Off \" + filt[2],\n",
    "                    duration=1,\n",
    "                    n_channels=filt[3],\n",
    "                    scalings=dict(mag=400, seeg=8),#, eog=100, emg=500, stim=1),\n",
    "                    color = dict(mag='darkblue', seeg='black', eog='grey', emg='brown',stim='k'),\n",
    "                    highpass=filt[0], lowpass=filt[1],\n",
    "                    group_by=\"original\")\n",
    "\n",
    "    fig = raw_on[subj].plot(title=f\"Subj: {subj+1} On \" + filt[2],\n",
    "                duration=1,\n",
    "                n_channels=filt[3],\n",
    "                scalings=dict(mag=400, seeg=8),#, eog=100, emg=500, stim=1),\n",
    "                color = dict(mag='darkblue', seeg='black', eog='grey', emg='brown',stim='k'),\n",
    "                highpass=filt[0], lowpass=filt[1],\n",
    "                group_by=\"original\")\n"
   ]
  },
  {
   "cell_type": "markdown",
   "metadata": {},
   "source": [
    "# Gabriel: What is the smallest step between amplitudes? The bit rate?"
   ]
  },
  {
   "cell_type": "code",
   "execution_count": 5,
   "metadata": {},
   "outputs": [],
   "source": [
    "import scipy.signal\n",
    "import scipy.io\n",
    "import numpy as np\n",
    "import matplotlib.pyplot as plt\n",
    "#################\n",
    "# read the data #\n",
    "#################\n",
    "f_on_data = '../../data/raw/rest/subj1/on/subj1_on_R7.mat'\n",
    "f_off_data = '../../data/raw/rest/subj1/off/subj1_off_R7.mat'\n",
    "\n",
    "on_data = scipy.io.loadmat(f_on_data)['data'][0,0][1][0,0]\n",
    "on_labels = [i[0][0] for i in scipy.io.loadmat(f_on_data)['data'][0,0][0]]\n",
    "on_t = scipy.io.loadmat(f_on_data)['data'][0,0][2][0,0][0]\n",
    "\n",
    "off_data = scipy.io.loadmat(f_off_data)['data'][0,0][1][0,0]\n",
    "off_labels = [i[0][0] for i in scipy.io.loadmat(f_off_data)['data'][0,0][0]]\n",
    "off_t = scipy.io.loadmat(f_off_data)['data'][0,0][2][0,0][0]\n",
    "\n",
    "if np.allclose(np.diff(on_t), np.diff(on_t)[0]):\n",
    "    on_d = np.diff(on_t)[0]\n",
    "    on_s_rate = 1./on_d\n",
    "else:\n",
    "    raise ValueError('Signal must be evenly sampled')\n",
    "\n",
    "if np.allclose(np.diff(off_t), np.diff(off_t)[0]):\n",
    "    off_d = np.diff(off_t)[0]\n",
    "    off_s_rate = 1./off_d\n",
    "else:\n",
    "    raise ValueError('Signal must be evenly sampled')\n",
    "\n",
    "if not on_labels == off_labels:\n",
    "    raise ValueError('channel labels must be equal during on and off')"
   ]
  },
  {
   "cell_type": "code",
   "execution_count": 60,
   "metadata": {},
   "outputs": [
    {
     "name": "stdout",
     "output_type": "stream",
     "text": [
      "Smallest step: 1.8e-07\n",
      "Mean: -0.1\n",
      "Standard Deviation: 54.9\n",
      "Range: -3272.9 - 2772.1\n"
     ]
    }
   ],
   "source": [
    "on_diff = abs(np.diff(on_data))\n",
    "off_diff = abs(np.diff(off_data))\n",
    "\n",
    "on_min = np.min(on_diff[on_diff>0])\n",
    "off_min = np.min(off_diff[off_diff>0])\n",
    "\n",
    "print(f\"Smallest step: {min(on_min, off_min):.1e}\")\n",
    "print(f\"Mean: {np.mean([np.mean(on_data), np.mean(off_data)]):.1f}\")\n",
    "print(f\"Standard Deviation: {np.mean([np.std(on_data), np.std(off_data)]):.1f}\")\n",
    "print(f\"Range: {min([np.min(on_data), np.min(off_data)]):.1f} - {max([np.max(on_data), np.max(off_data)]):.1f}\")"
   ]
  },
  {
   "cell_type": "markdown",
   "metadata": {},
   "source": [
    "# Data attributes for all pats and all conds:\n",
    "### Smallest step: $1.8 \\cdot 10^{-7}$\n",
    "### Mean: $-0.1$\n",
    "### Standard Deviation: $54.9$\n",
    "### Range: $-3272.9$ to $2772.1$"
   ]
  }
 ],
 "metadata": {
  "kernelspec": {
   "display_name": "Python 3",
   "language": "python",
   "name": "python3"
  },
  "language_info": {
   "codemirror_mode": {
    "name": "ipython",
    "version": 3
   },
   "file_extension": ".py",
   "mimetype": "text/x-python",
   "name": "python",
   "nbconvert_exporter": "python",
   "pygments_lexer": "ipython3",
   "version": "3.8.3"
  }
 },
 "nbformat": 4,
 "nbformat_minor": 4
}
