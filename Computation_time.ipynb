{
 "cells": [
  {
   "cell_type": "markdown",
   "source": [
    "# Computation time comparison fooof vs IRASA"
   ],
   "metadata": {}
  },
  {
   "cell_type": "code",
   "execution_count": 1,
   "source": [
    "import mne\n",
    "import numpy as np\n",
    "import scipy.signal as sig\n",
    "from fooof import FOOOFGroup\n",
    "\n",
    "from utils import irasa"
   ],
   "outputs": [],
   "metadata": {}
  },
  {
   "cell_type": "markdown",
   "source": [
    "#### Load data"
   ],
   "metadata": {}
  },
  {
   "cell_type": "code",
   "execution_count": 12,
   "source": [
    "# File names\n",
    "path = \"../data/Fig5/\"\n",
    "fname = \"subj6_off_R1_raw.fif\"\n",
    "sub = mne.io.read_raw_fif(path + fname, preload=True)\n",
    "\n",
    "# Convert mne to numpy\n",
    "sample_rate = 2400\n",
    "start = int(0.5 * sample_rate)  # artefact in beginning of recording\n",
    "stop = int(185 * sample_rate)  # artefact at the end of recording\n",
    "\n",
    "sub = sub.get_data(start=start, stop=stop)[:9]\n",
    "band = (1, 30)\n",
    "irasa_params = dict(data=sub, sf=sample_rate, band=band)\n",
    "\n",
    "welch_params_fooof = dict(fs=sample_rate, nperseg=sample_rate)\n",
    "welch_params_fooof_highRes = dict(fs=sample_rate, nperseg=4*sample_rate)"
   ],
   "outputs": [
    {
     "output_type": "stream",
     "name": "stdout",
     "text": [
      "Opening raw data file ../data/Fig5/subj6_off_R1_raw.fif...\n",
      "Isotrak not found\n",
      "    Range : 0 ... 463199 =      0.000 ...   193.000 secs\n",
      "Ready.\n",
      "Reading 0 ... 463199  =      0.000 ...   193.000 secs...\n"
     ]
    }
   ],
   "metadata": {}
  },
  {
   "cell_type": "markdown",
   "source": [
    "#### IRASA at default parameters\n",
    "13.0 +- 0.3 seconds (September 22nd 2021)"
   ],
   "metadata": {}
  },
  {
   "cell_type": "code",
   "execution_count": 7,
   "source": [
    "%timeit IRASA = irasa(**irasa_params)"
   ],
   "outputs": [
    {
     "output_type": "stream",
     "name": "stdout",
     "text": [
      "13 s ± 283 ms per loop (mean ± std. dev. of 7 runs, 1 loop each)\n"
     ]
    }
   ],
   "metadata": {}
  },
  {
   "cell_type": "markdown",
   "source": [
    "#### IRASA does not slow down if spectral resolution is decreased\n",
    "13.1 +- 0.3 seconds (September 22nd 2021)"
   ],
   "metadata": {}
  },
  {
   "cell_type": "code",
   "execution_count": 8,
   "source": [
    "%timeit IRASA = irasa(win_sec=20, **irasa_params)"
   ],
   "outputs": [
    {
     "output_type": "stream",
     "name": "stdout",
     "text": [
      "13.1 s ± 297 ms per loop (mean ± std. dev. of 7 runs, 1 loop each)\n"
     ]
    }
   ],
   "metadata": {}
  },
  {
   "cell_type": "markdown",
   "source": [
    "#### IRASA does not slow down if spectral resolution is increased: 12.3 +- 0.6 seconds (September 22nd 2021)"
   ],
   "metadata": {}
  },
  {
   "cell_type": "code",
   "execution_count": 9,
   "source": [
    "%timeit IRASA = irasa(win_sec=0.5, **irasa_params)"
   ],
   "outputs": [
    {
     "output_type": "stream",
     "name": "stdout",
     "text": [
      "12.3 s ± 606 ms per loop (mean ± std. dev. of 7 runs, 1 loop each)\n"
     ]
    }
   ],
   "metadata": {}
  },
  {
   "cell_type": "markdown",
   "source": [
    "#### IRASA slows down if number of hset is increased: 59.4 +- 1.2 seconds (September 22nd 2021)"
   ],
   "metadata": {}
  },
  {
   "cell_type": "code",
   "execution_count": 10,
   "source": [
    "%timeit IRASA = irasa(hset=np.arange(1.1, 1.9, 0.01), **irasa_params)"
   ],
   "outputs": [
    {
     "output_type": "stream",
     "name": "stdout",
     "text": [
      "59.4 s ± 1.19 s per loop (mean ± std. dev. of 7 runs, 1 loop each)\n"
     ]
    }
   ],
   "metadata": {}
  },
  {
   "cell_type": "markdown",
   "source": [
    "#### IRASA slows down if values of hset is increased: 64 +- 2 seconds (September 22nd 2021)"
   ],
   "metadata": {}
  },
  {
   "cell_type": "code",
   "execution_count": 15,
   "source": [
    "%timeit IRASA = irasa(hset=np.arange(10.1, 10.9, 0.05), **irasa_params)"
   ],
   "outputs": [
    {
     "output_type": "stream",
     "name": "stdout",
     "text": [
      "1min 4s ± 1.83 s per loop (mean ± std. dev. of 7 runs, 1 loop each)\n"
     ]
    }
   ],
   "metadata": {}
  },
  {
   "cell_type": "markdown",
   "source": [
    "#### Fooof is fast even if psd calculation is included: 269 +- 2 miliseconds (September 22nd 2021)"
   ],
   "metadata": {}
  },
  {
   "cell_type": "code",
   "execution_count": 24,
   "source": [
    "%%timeit\n",
    "freq, psd_sub = sig.welch(sub, **welch_params_fooof)\n",
    "\n",
    "fm = FOOOFGroup(verbose=False)\n",
    "fm.fit(freq, psd_sub, band)"
   ],
   "outputs": [
    {
     "output_type": "stream",
     "name": "stdout",
     "text": [
      "278 ms ± 10.1 ms per loop (mean ± std. dev. of 7 runs, 1 loop each)\n"
     ]
    }
   ],
   "metadata": {}
  },
  {
   "cell_type": "markdown",
   "source": [
    "#### Fooof is twice as fast without PSD calculcation: 126 +- 6 miliseconds (September 22nd 2021)"
   ],
   "metadata": {}
  },
  {
   "cell_type": "code",
   "execution_count": 21,
   "source": [
    "freq, psd_sub = sig.welch(sub, **welch_params_fooof)"
   ],
   "outputs": [],
   "metadata": {}
  },
  {
   "cell_type": "code",
   "execution_count": 23,
   "source": [
    "%%timeit\n",
    "fm = FOOOFGroup(verbose=False)\n",
    "fm.fit(freq, psd_sub, band)"
   ],
   "outputs": [
    {
     "output_type": "stream",
     "name": "stdout",
     "text": [
      "126 ms ± 5.92 ms per loop (mean ± std. dev. of 7 runs, 10 loops each)\n"
     ]
    }
   ],
   "metadata": {}
  },
  {
   "cell_type": "markdown",
   "source": [
    "#### Fooof is slow if the spectral resolution is high: 418 +- 3 miliseconds (September 22nd 2021)"
   ],
   "metadata": {}
  },
  {
   "cell_type": "code",
   "execution_count": 25,
   "source": [
    "%%timeit\n",
    "\n",
    "freq, psd_sub = sig.welch(sub, **welch_params_fooof_highRes)\n",
    "\n",
    "fm = FOOOFGroup(verbose=False)\n",
    "fm.fit(freq, psd_sub, band)"
   ],
   "outputs": [
    {
     "output_type": "stream",
     "name": "stdout",
     "text": [
      "418 ms ± 3.49 ms per loop (mean ± std. dev. of 7 runs, 1 loop each)\n"
     ]
    }
   ],
   "metadata": {}
  }
 ],
 "metadata": {
  "orig_nbformat": 4,
  "language_info": {
   "name": "python",
   "version": "3.9.7",
   "mimetype": "text/x-python",
   "codemirror_mode": {
    "name": "ipython",
    "version": 3
   },
   "pygments_lexer": "ipython3",
   "nbconvert_exporter": "python",
   "file_extension": ".py"
  },
  "kernelspec": {
   "name": "python3",
   "display_name": "Python 3.9.7 64-bit ('one-over-f': conda)"
  },
  "interpreter": {
   "hash": "116b630a5ed3536a41a411284f2f012869aa7a814e09f3175ad417d37e36da32"
  }
 },
 "nbformat": 4,
 "nbformat_minor": 2
}