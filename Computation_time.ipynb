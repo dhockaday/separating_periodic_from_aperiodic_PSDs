{
 "cells": [
  {
   "cell_type": "markdown",
   "metadata": {},
   "source": [
    "# Computation time comparison fooof vs IRASA\n",
    "Tested on September 22nd 2021"
   ]
  },
  {
   "cell_type": "code",
   "execution_count": 4,
   "metadata": {},
   "outputs": [],
   "source": [
    "import mne\n",
    "import numpy as np\n",
    "import scipy.signal as sig\n",
    "from fooof import FOOOFGroup\n",
    "\n",
    "from utils import irasa"
   ]
  },
  {
   "cell_type": "markdown",
   "metadata": {},
   "source": [
    "#### Load data"
   ]
  },
  {
   "cell_type": "code",
   "execution_count": 5,
   "metadata": {},
   "outputs": [
    {
     "name": "stdout",
     "output_type": "stream",
     "text": [
      "Opening raw data file ../data/Fig5/subj6_off_R1_raw.fif...\n",
      "Isotrak not found\n",
      "    Range : 0 ... 463199 =      0.000 ...   193.000 secs\n",
      "Ready.\n",
      "Reading 0 ... 463199  =      0.000 ...   193.000 secs...\n"
     ]
    }
   ],
   "source": [
    "# File names\n",
    "path = \"../data/Fig5/\"\n",
    "fname = \"subj6_off_R1_raw.fif\"\n",
    "sub = mne.io.read_raw_fif(path + fname, preload=True)\n",
    "\n",
    "# Convert mne to numpy\n",
    "sample_rate = 2400\n",
    "start = int(0.5 * sample_rate)  # artefact in beginning of recording\n",
    "stop = int(185 * sample_rate)  # artefact at the end of recording\n",
    "\n",
    "sub = sub.get_data(start=start, stop=stop)[:9]\n",
    "band = (1, 30)\n",
    "irasa_params = dict(data=sub, sf=sample_rate, band=band)\n",
    "\n",
    "welch_params_fooof = dict(fs=sample_rate, nperseg=sample_rate)\n",
    "welch_params_fooof_highRes = dict(fs=sample_rate, nperseg=4*sample_rate)"
   ]
  },
  {
   "cell_type": "markdown",
   "metadata": {},
   "source": [
    "#### IRASA at default parameters: 13.0 +- 0.3 seconds"
   ]
  },
  {
   "cell_type": "code",
   "execution_count": 6,
   "metadata": {},
   "outputs": [
    {
     "name": "stdout",
     "output_type": "stream",
     "text": [
      "13.4 s ± 166 ms per loop (mean ± std. dev. of 7 runs, 1 loop each)\n"
     ]
    }
   ],
   "source": [
    "%timeit IRASA = irasa(**irasa_params)"
   ]
  },
  {
   "cell_type": "markdown",
   "metadata": {},
   "source": [
    "#### IRASA does not slow down if spectral resolution is decreased: 13.1 +- 0.3 seconds"
   ]
  },
  {
   "cell_type": "code",
   "execution_count": 8,
   "metadata": {},
   "outputs": [
    {
     "name": "stdout",
     "output_type": "stream",
     "text": [
      "13.1 s ± 297 ms per loop (mean ± std. dev. of 7 runs, 1 loop each)\n"
     ]
    }
   ],
   "source": [
    "%timeit IRASA = irasa(win_sec=20, **irasa_params)"
   ]
  },
  {
   "cell_type": "markdown",
   "metadata": {},
   "source": [
    "#### IRASA does not slow down if spectral resolution is increased: 12.3 +- 0.6 seconds"
   ]
  },
  {
   "cell_type": "code",
   "execution_count": 9,
   "metadata": {},
   "outputs": [
    {
     "name": "stdout",
     "output_type": "stream",
     "text": [
      "12.3 s ± 606 ms per loop (mean ± std. dev. of 7 runs, 1 loop each)\n"
     ]
    }
   ],
   "source": [
    "%timeit IRASA = irasa(win_sec=0.5, **irasa_params)"
   ]
  },
  {
   "cell_type": "markdown",
   "metadata": {},
   "source": [
    "#### IRASA slows down if number of hset is increased: 59.4 +- 1.2 seconds"
   ]
  },
  {
   "cell_type": "code",
   "execution_count": 10,
   "metadata": {},
   "outputs": [
    {
     "name": "stdout",
     "output_type": "stream",
     "text": [
      "59.4 s ± 1.19 s per loop (mean ± std. dev. of 7 runs, 1 loop each)\n"
     ]
    }
   ],
   "source": [
    "%timeit IRASA = irasa(hset=np.arange(1.1, 1.9, 0.01), **irasa_params)"
   ]
  },
  {
   "cell_type": "markdown",
   "metadata": {},
   "source": [
    "#### IRASA slows down if values of hset is increased: 64 +- 2 seconds"
   ]
  },
  {
   "cell_type": "code",
   "execution_count": 15,
   "metadata": {},
   "outputs": [
    {
     "name": "stdout",
     "output_type": "stream",
     "text": [
      "1min 4s ± 1.83 s per loop (mean ± std. dev. of 7 runs, 1 loop each)\n"
     ]
    }
   ],
   "source": [
    "%timeit IRASA = irasa(hset=np.arange(10.1, 10.9, 0.05), **irasa_params)"
   ]
  },
  {
   "cell_type": "markdown",
   "metadata": {},
   "source": [
    "#### Fooof is fast even if psd calculation is included: 269 +- 2 miliseconds"
   ]
  },
  {
   "cell_type": "code",
   "execution_count": 24,
   "metadata": {},
   "outputs": [
    {
     "name": "stdout",
     "output_type": "stream",
     "text": [
      "278 ms ± 10.1 ms per loop (mean ± std. dev. of 7 runs, 1 loop each)\n"
     ]
    }
   ],
   "source": [
    "%%timeit\n",
    "freq, psd_sub = sig.welch(sub, **welch_params_fooof)\n",
    "\n",
    "fm = FOOOFGroup(verbose=False)\n",
    "fm.fit(freq, psd_sub, band)"
   ]
  },
  {
   "cell_type": "markdown",
   "metadata": {},
   "source": [
    "#### Fooof is twice as fast without PSD calculcation: 126 +- 6 miliseconds"
   ]
  },
  {
   "cell_type": "code",
   "execution_count": 21,
   "metadata": {},
   "outputs": [],
   "source": [
    "freq, psd_sub = sig.welch(sub, **welch_params_fooof)"
   ]
  },
  {
   "cell_type": "code",
   "execution_count": 23,
   "metadata": {},
   "outputs": [
    {
     "name": "stdout",
     "output_type": "stream",
     "text": [
      "126 ms ± 5.92 ms per loop (mean ± std. dev. of 7 runs, 10 loops each)\n"
     ]
    }
   ],
   "source": [
    "%%timeit\n",
    "fm = FOOOFGroup(verbose=False)\n",
    "fm.fit(freq, psd_sub, band)"
   ]
  },
  {
   "cell_type": "markdown",
   "metadata": {},
   "source": [
    "#### Fooof is slow if the spectral resolution is high: 418 +- 3 miliseconds"
   ]
  },
  {
   "cell_type": "code",
   "execution_count": 25,
   "metadata": {},
   "outputs": [
    {
     "name": "stdout",
     "output_type": "stream",
     "text": [
      "418 ms ± 3.49 ms per loop (mean ± std. dev. of 7 runs, 1 loop each)\n"
     ]
    }
   ],
   "source": [
    "%%timeit\n",
    "\n",
    "freq, psd_sub = sig.welch(sub, **welch_params_fooof_highRes)\n",
    "\n",
    "fm = FOOOFGroup(verbose=False)\n",
    "fm.fit(freq, psd_sub, band)"
   ]
  }
 ],
 "metadata": {
  "interpreter": {
   "hash": "116b630a5ed3536a41a411284f2f012869aa7a814e09f3175ad417d37e36da32"
  },
  "kernelspec": {
   "display_name": "Python 3.9.7 64-bit ('one-over-f': conda)",
   "name": "python3"
  },
  "language_info": {
   "codemirror_mode": {
    "name": "ipython",
    "version": 3
   },
   "file_extension": ".py",
   "mimetype": "text/x-python",
   "name": "python",
   "nbconvert_exporter": "python",
   "pygments_lexer": "ipython3",
   "version": "3.8.12"
  },
  "orig_nbformat": 4
 },
 "nbformat": 4,
 "nbformat_minor": 2
}
