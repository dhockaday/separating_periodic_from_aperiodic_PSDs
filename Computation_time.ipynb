{
 "cells": [
  {
   "cell_type": "markdown",
   "source": [
    "# Computation time comparison fooof vs IRASA"
   ],
   "metadata": {}
  },
  {
   "cell_type": "code",
   "execution_count": 9,
   "source": [
    "# %%\n",
    "import mne\n",
    "import numpy as np\n",
    "import scipy.signal as sig\n",
    "from fooof import FOOOFGroup\n",
    "\n",
    "from utils import irasa\n",
    "\n",
    "# File names\n",
    "path = \"../data/Fig5/\"\n",
    "fname = \"subj6_off_R1_raw.fif\"\n",
    "sub = mne.io.read_raw_fif(path + fname, preload=True)\n",
    "\n",
    "# Convert mne to numpy\n",
    "srate = 2400\n",
    "start = int(0.5 * srate)  # artefact in beginning of recording\n",
    "stop = int(185 * srate)  # artefact at the end of recording\n",
    "\n",
    "sub = sub.get_data(start=start, stop=stop)[:9]\n",
    "\n",
    "band = (1, 30)"
   ],
   "outputs": [],
   "metadata": {}
  },
  {
   "cell_type": "code",
   "execution_count": 2,
   "source": [
    "# %% IRASA at default parameters\n",
    "%%timeit\n",
    "# =============================================================================\n",
    "# IRASA time = 12.1 +- 0.2 seconds\n",
    "# =============================================================================\n",
    "\n",
    "IRASA = irasa(data=sub, sf=srate, band=band)\n",
    "_, _, _, params = IRASA"
   ],
   "outputs": [
    {
     "output_type": "stream",
     "name": "stderr",
     "text": [
      "UsageError: Line magic function `%%timeit` not found.\n"
     ]
    }
   ],
   "metadata": {}
  },
  {
   "cell_type": "code",
   "execution_count": 4,
   "source": [
    "# %% IRASA does not slow down if spectral resolution is increased/decreased\n",
    "%%timeit\n",
    "# =============================================================================\n",
    "# IRASA time = 12.4 +- 0.3\n",
    "# =============================================================================\n",
    "\n",
    "IRASA = irasa(data=sub, sf=srate, band=band, win_sec=20)\n",
    "_, _, _, params = IRASA\n"
   ],
   "outputs": [
    {
     "output_type": "stream",
     "name": "stderr",
     "text": [
      "UsageError: Line magic function `%%timeit` not found.\n"
     ]
    }
   ],
   "metadata": {}
  },
  {
   "cell_type": "code",
   "execution_count": null,
   "source": [
    "\n",
    "# %% IRASA does not slow down if spectral resolution is increased/decreased\n",
    "%%timeit\n",
    "# =============================================================================\n",
    "# IRASA time = 12 +- 0.4\n",
    "# =============================================================================\n",
    "\n",
    "IRASA = irasa(data=sub, sf=srate, band=band, win_sec=0.5)\n",
    "_, _, _, params = IRASA\n"
   ],
   "outputs": [],
   "metadata": {}
  },
  {
   "cell_type": "code",
   "execution_count": null,
   "source": [
    "\n",
    "# %% IRASA slows down if number of hset is increased\n",
    "%%timeit\n",
    "# =============================================================================\n",
    "# IRASA time = 55 +- 0.2\n",
    "# =============================================================================\n",
    "\n",
    "IRASA = irasa(data=sub, sf=srate, band=band, hset=np.arange(1.1, 1.9, 0.01))\n",
    "_, _, _, params = IRASA\n"
   ],
   "outputs": [],
   "metadata": {}
  },
  {
   "cell_type": "code",
   "execution_count": null,
   "source": [
    "\n",
    "# %% IRASA slows down if values of hset is increased\n",
    "%%timeit\n",
    "# =============================================================================\n",
    "# IRASA time = 1min 6s ± 2.02 s per loop (mean ± std. dev. of 7 runs,\n",
    "# 1 loop each)\n",
    "# =============================================================================\n",
    "\n",
    "IRASA = irasa(data=sub, sf=srate, band=band, hset=np.arange(10.1, 10.9, 0.05))\n",
    "_, _, _, params = IRASA\n"
   ],
   "outputs": [],
   "metadata": {}
  },
  {
   "cell_type": "code",
   "execution_count": null,
   "source": [
    "\n",
    "# %% Fooof fast even if psd calc included\n",
    "%%timeit\n",
    "# =============================================================================\n",
    "# FOOOF 265 ms +- 5 ms\n",
    "# =============================================================================\n",
    "\n",
    "# Signal params\n",
    "welch_params = dict(fs=srate, nperseg=srate)\n",
    "freq, psd_sub = sig.welch(sub, **welch_params)\n",
    "\n",
    "fm = FOOOFGroup(verbose=False)\n",
    "fm.fit(freq, psd_sub, band)\n"
   ],
   "outputs": [],
   "metadata": {}
  },
  {
   "cell_type": "code",
   "execution_count": null,
   "source": [
    "\n",
    "# %% Fooof twice as fast without PSD calculcation\n",
    "%%timeit\n",
    "# =============================================================================\n",
    "# FOOOF 123 ms +- 1.1 ms\n",
    "# =============================================================================\n",
    "\n",
    "fm = FOOOFGroup(verbose=False)\n",
    "fm.fit(freq, psd_sub, band)\n"
   ],
   "outputs": [],
   "metadata": {}
  },
  {
   "cell_type": "code",
   "execution_count": null,
   "source": [
    "\n",
    "# %% Fooof slow if spectral resolution too high\n",
    "%%timeit\n",
    "# =============================================================================\n",
    "# FOOOF 409 ms ± 3.96 ms per loop (mean ± std. dev. of 7 runs, 1 loop each)\n",
    "# =============================================================================\n",
    "\n",
    "# Signal params\n",
    "welch_params = dict(fs=srate, nperseg=4*srate)\n",
    "freq, psd_sub = sig.welch(sub, **welch_params)\n",
    "\n",
    "fm = FOOOFGroup(verbose=False)\n",
    "fm.fit(freq, psd_sub, band)\n",
    "\n",
    "# %%\n"
   ],
   "outputs": [],
   "metadata": {}
  }
 ],
 "metadata": {
  "orig_nbformat": 4,
  "language_info": {
   "name": "python",
   "version": "3.9.7",
   "mimetype": "text/x-python",
   "codemirror_mode": {
    "name": "ipython",
    "version": 3
   },
   "pygments_lexer": "ipython3",
   "nbconvert_exporter": "python",
   "file_extension": ".py"
  },
  "kernelspec": {
   "name": "python3",
   "display_name": "Python 3.9.7 64-bit ('one-over-f': conda)"
  },
  "interpreter": {
   "hash": "116b630a5ed3536a41a411284f2f012869aa7a814e09f3175ad417d37e36da32"
  }
 },
 "nbformat": 4,
 "nbformat_minor": 2
}