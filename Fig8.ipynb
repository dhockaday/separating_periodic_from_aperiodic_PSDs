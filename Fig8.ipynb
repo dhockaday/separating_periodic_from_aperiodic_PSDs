{
 "cells": [
  {
   "cell_type": "markdown",
   "source": [
    "# Figure 8: “Easy” and “hard” PSDs"
   ],
   "metadata": {}
  },
  {
   "cell_type": "code",
   "execution_count": 17,
   "source": [
    "from pathlib import Path\n",
    "\n",
    "import matplotlib.pyplot as plt\n",
    "import mne\n",
    "import numpy as np\n",
    "import yaml\n",
    "from fooof import FOOOF\n",
    "from fooof.sim.gen import gen_aperiodic\n",
    "from mne.time_frequency import psd_welch\n",
    "\n",
    "from utils import annotate_range, irasa, detect_plateau_onset"
   ],
   "outputs": [],
   "metadata": {}
  },
  {
   "cell_type": "markdown",
   "source": [
    "#### Load params and make directory"
   ],
   "metadata": {}
  },
  {
   "cell_type": "code",
   "execution_count": 18,
   "source": [
    "yaml_file = open('params.yml')\n",
    "parsed_yaml_file = yaml.load(yaml_file, Loader=yaml.FullLoader)\n",
    "globals().update(parsed_yaml_file)\n",
    "\n",
    "Path(fig_path).mkdir(parents=True, exist_ok=True)"
   ],
   "outputs": [],
   "metadata": {}
  },
  {
   "cell_type": "markdown",
   "source": [
    "#### Load empirical data of dataset 1 and calc PSD"
   ],
   "metadata": {}
  },
  {
   "cell_type": "code",
   "execution_count": 19,
   "source": [
    "# Load data\n",
    "data_path = \"../data/Fig8/\"\n",
    "sub5 = mne.io.read_raw_fif(data_path + \"subj5_on_R1_raw.fif\", preload=True)\n",
    "sub9 = mne.io.read_raw_fif(data_path + \"subj9_on_R8_raw.fif\", preload=True)\n",
    "\n",
    "ch5 = \"SMA\"\n",
    "ch9 = \"STN_R01\"\n",
    "sub5.pick_channels([ch5])\n",
    "sub9.pick_channels([ch9])\n",
    "# here it is fine to notch filter at 50 Hz because the filter does not\n",
    "# cause a dip in the PSD\n",
    "filter_params = {\"freqs\": np.arange(50, 601, 50),\n",
    "                 \"notch_widths\": 0.1,\n",
    "                 \"method\": \"spectrum_fit\"}\n",
    "sub5.notch_filter(**filter_params)\n",
    "sub9.notch_filter(**filter_params)\n",
    "\n",
    "sample_rate = 2400\n",
    "\n",
    "# Calc PSD\n",
    "welch_params_b = {\"fmin\": 1,\n",
    "                  \"fmax\": 600,\n",
    "                  \"tmin\": 0.5,\n",
    "                  \"tmax\": 185,\n",
    "                  \"n_fft\": sample_rate,\n",
    "                  \"n_overlap\": sample_rate // 2,\n",
    "                  \"average\": \"mean\"}\n",
    "\n",
    "PSD_sub5, freq = psd_welch(sub5, **welch_params_b)\n",
    "PSD_sub9, freq = psd_welch(sub9, **welch_params_b)\n",
    "\n",
    "PSD_sub5 = PSD_sub5[0]\n",
    "PSD_sub9 = PSD_sub9[0]"
   ],
   "outputs": [
    {
     "output_type": "stream",
     "name": "stdout",
     "text": [
      "Opening raw data file ../data/Fig8/subj5_on_R1_raw.fif...\n",
      "Isotrak not found\n",
      "    Range : 0 ... 460799 =      0.000 ...   192.000 secs\n",
      "Ready.\n",
      "Reading 0 ... 460799  =      0.000 ...   192.000 secs...\n",
      "Opening raw data file ../data/Fig8/subj9_on_R8_raw.fif...\n",
      "Isotrak not found\n",
      "    Range : 0 ... 460799 =      0.000 ...   192.000 secs\n",
      "Ready.\n",
      "Reading 0 ... 460799  =      0.000 ...   192.000 secs...\n",
      "Removed notch frequencies (Hz):\n",
      "     50.00 :   37 windows\n",
      "    100.00 :   37 windows\n",
      "    150.00 :   37 windows\n",
      "    200.00 :   37 windows\n",
      "    250.00 :   37 windows\n",
      "    300.00 :   37 windows\n",
      "    350.00 :   37 windows\n",
      "    400.00 :   37 windows\n",
      "    450.00 :   37 windows\n",
      "    500.00 :   37 windows\n",
      "    550.00 :   37 windows\n",
      "    600.00 :   37 windows\n",
      "Removed notch frequencies (Hz):\n",
      "     50.00 :   37 windows\n",
      "    100.00 :   37 windows\n",
      "    150.00 :   37 windows\n",
      "    200.00 :   37 windows\n",
      "    250.00 :   37 windows\n",
      "    300.00 :   37 windows\n",
      "    350.00 :   37 windows\n",
      "    400.00 :   37 windows\n",
      "    450.00 :   37 windows\n",
      "    500.00 :   37 windows\n",
      "    550.00 :   37 windows\n",
      "    600.00 :   37 windows\n",
      "Setting 149133 of 442801 (33.68%) samples to NaN, retaining 293668 (66.32%) samples.\n",
      "Effective window size : 1.000 (s)\n",
      "Setting 29380 of 442801 (6.64%) samples to NaN, retaining 413421 (93.36%) samples.\n",
      "Effective window size : 1.000 (s)\n"
     ]
    }
   ],
   "metadata": {}
  },
  {
   "cell_type": "markdown",
   "source": [
    "#### Apply fooof"
   ],
   "metadata": {}
  },
  {
   "cell_type": "code",
   "execution_count": 20,
   "source": [
    "# %% Fooof fit\n",
    "freq_range = [1, 95]\n",
    "fooof_params = dict(verbose=False, peak_width_limits=(0.5, 150))\n",
    "\n",
    "fm_sub5 = FOOOF(**fooof_params)\n",
    "fm_sub9 = FOOOF(**fooof_params)\n",
    "\n",
    "# Empirical fit\n",
    "fm_sub5.fit(freq, PSD_sub5, freq_range)\n",
    "fm_sub9.fit(freq, PSD_sub9, freq_range)\n",
    "\n",
    "# Extract aperiodic PSD from empirical fit\n",
    "ap_fooof_fit_sub5 = gen_aperiodic(fm_sub5.freqs, fm_sub5.aperiodic_params_)\n",
    "ap_fooof_fit_sub9 = gen_aperiodic(fm_sub9.freqs, fm_sub9.aperiodic_params_)\n",
    "\n",
    "exponent_sub5 = fm_sub5.aperiodic_params_[1]\n",
    "exponent_sub9 = fm_sub9.aperiodic_params_[1]\n",
    "\n",
    "# Get peak params\n",
    "(center_freq_sub5_1,\n",
    " peak_power_sub5_1,\n",
    " peak_width_sub5_1) = fm_sub5.peak_params_[1]\n",
    "(center_freq_sub5_2,\n",
    " peak_power_sub5_2,\n",
    " peak_width_sub5_2) = fm_sub5.peak_params_[2]\n",
    "(center_freq_sub5_3,\n",
    " peak_power_sub5_3,\n",
    " peak_width_sub5_3) = fm_sub5.peak_params_[3]\n",
    "\n",
    "(center_freq_sub9_1,\n",
    " peak_power_sub9_1,\n",
    " peak_width_sub9_1) = fm_sub9.peak_params_[0]\n",
    "(center_freq_sub9_2,\n",
    " peak_power_sub9_2,\n",
    " peak_width_sub9_2) = fm_sub9.peak_params_[1]"
   ],
   "outputs": [],
   "metadata": {}
  },
  {
   "cell_type": "markdown",
   "source": [
    "#### Connect a straight line between 1Hz and 95Hz "
   ],
   "metadata": {}
  },
  {
   "cell_type": "code",
   "execution_count": 21,
   "source": [
    "# straight \"fit\"\n",
    "DeltaX = np.log10(np.diff(freq_range)[0])\n",
    "\n",
    "offset_sub5 = np.log10(PSD_sub5[freq == freq_range[0]][0])\n",
    "endpoint_sub5 = np.log10(PSD_sub5[freq == freq_range[1]][0])\n",
    "DeltaY_sub5 = offset_sub5 - endpoint_sub5\n",
    "\n",
    "offset_sub9 = np.log10(PSD_sub9[freq == freq_range[0]][0])\n",
    "endpoint_sub9 = np.log10(PSD_sub9[freq == freq_range[1]][0])\n",
    "DeltaY_sub9 = offset_sub9 - endpoint_sub9\n",
    "\n",
    "exponent_sub5_straight = DeltaY_sub5 / DeltaX\n",
    "exponent_sub9_straight = DeltaY_sub9 / DeltaX\n",
    "\n",
    "ap_straight_fit_sub5 = gen_aperiodic(fm_sub5.freqs,\n",
    "                                     np.array([offset_sub5,\n",
    "                                               exponent_sub5_straight]))\n",
    "ap_straight_fit_sub9 = gen_aperiodic(fm_sub9.freqs,\n",
    "                                     np.array([offset_sub9,\n",
    "                                               exponent_sub9_straight]))"
   ],
   "outputs": [],
   "metadata": {}
  },
  {
   "cell_type": "markdown",
   "source": [
    "#### Apply IRASA"
   ],
   "metadata": {}
  },
  {
   "cell_type": "code",
   "execution_count": 22,
   "source": [
    "# get timeseries data\n",
    "get_data = dict(start=sample_rate//2, stop=sample_rate*180,\n",
    "                reject_by_annotation=\"NaN\")\n",
    "irasa_sub5 = sub5.get_data(**get_data)\n",
    "irasa_sub9 = sub9.get_data(**get_data)\n",
    "\n",
    "# apply IRASA and unpack\n",
    "freq_I, _, _, irasa_params_sub5 = irasa(irasa_sub5, band=freq_range,\n",
    "                                        sf=sample_rate)\n",
    "_, _, _, irasa_params_sub9 = irasa(irasa_sub9, band=freq_range, sf=sample_rate)\n",
    "\n",
    "# extract results\n",
    "irasa_offset_sub5 = irasa_params_sub5[\"Intercept\"][0]\n",
    "irasa_offset_sub9 = irasa_params_sub9[\"Intercept\"][0]\n",
    "\n",
    "exponent_irasa_sub5 = -irasa_params_sub5[\"Slope\"][0]\n",
    "exponent_irasa_sub9 = -irasa_params_sub9[\"Slope\"][0]\n",
    "\n",
    "# Generate 1/f based on results\n",
    "ap_irasa_fit_sub5 = gen_aperiodic(freq_I,\n",
    "                                  np.array([irasa_offset_sub5,\n",
    "                                            exponent_irasa_sub5]))\n",
    "ap_irasa_fit_sub9 = gen_aperiodic(freq_I,\n",
    "                                  np.array([irasa_offset_sub9,\n",
    "                                            exponent_irasa_sub9]))\n",
    "\n",
    "# pack lines for plotting\n",
    "PSD_plot_sub5 = (freq, PSD_sub5, c_real)\n",
    "PSD_plot_sub9 = (freq, PSD_sub9, c_real)\n",
    "\n",
    "fooof_plot_sub5 = (fm_sub5.freqs, 10**ap_fooof_fit_sub5, c_fit_fooof)\n",
    "fooof_plot_sub9 = (fm_sub9.freqs, 10**ap_fooof_fit_sub9, c_fit_fooof)\n",
    "\n",
    "straight_plot_sub5 = (fm_sub5.freqs, 10**ap_straight_fit_sub5, c_fit_straight)\n",
    "straight_plot_sub9 = (fm_sub9.freqs, 10**ap_straight_fit_sub9, c_fit_straight)\n",
    "\n",
    "irasa_plot_sub5 = (freq_I, 10**ap_irasa_fit_sub5, c_fit_irasa)\n",
    "irasa_plot_sub9 = (freq_I, 10**ap_irasa_fit_sub9, c_fit_irasa)"
   ],
   "outputs": [
    {
     "output_type": "stream",
     "name": "stdout",
     "text": [
      "Setting 137132 of 430800 (31.83%) samples to NaN, retaining 293668 (68.17%) samples.\n",
      "Setting 29380 of 430800 (6.82%) samples to NaN, retaining 401420 (93.18%) samples.\n"
     ]
    }
   ],
   "metadata": {}
  },
  {
   "cell_type": "markdown",
   "source": [
    "#### Plot settings"
   ],
   "metadata": {}
  },
  {
   "cell_type": "code",
   "execution_count": 23,
   "source": [
    "panel_labels = dict(x=0, y=1.02, fontsize=panel_fontsize,\n",
    "                    fontdict=dict(fontweight=\"bold\"))\n",
    "panel_description = dict(x=0, y=1.02, fontsize=panel_fontsize)"
   ],
   "outputs": [],
   "metadata": {}
  },
  {
   "cell_type": "markdown",
   "source": [
    "# Figure 8"
   ],
   "metadata": {}
  },
  {
   "cell_type": "code",
   "execution_count": 24,
   "source": [
    "fig, ax = plt.subplots(2, 2, figsize=(fig_width, 5), sharey=\"row\")\n",
    "\n",
    "ax[0, 0].text(s='    \"Easy\" spectrum', **panel_description,\n",
    "              transform=ax[0, 0].transAxes)\n",
    "ax[1, 0].text(s='    \"Hard\" spectrum', **panel_description,\n",
    "              transform=ax[1, 0].transAxes)\n",
    "# lin\n",
    "ax[0, 0].semilogy(*PSD_plot_sub5, label=\"Sub 5 MEG\")  # + ch5)\n",
    "ax[1, 0].semilogy(*PSD_plot_sub9, label=\"Sub 9 LFP\")  # + ch9)\n",
    "\n",
    "# log\n",
    "ax[0, 1].loglog(*PSD_plot_sub5, label=\"Sub 5 MEG\")\n",
    "ax[1, 1].loglog(*PSD_plot_sub9, label=\"Sub 9 LFP\")\n",
    "\n",
    "# Fooof fit\n",
    "ax[0, 1].loglog(*fooof_plot_sub5,\n",
    "                label=rf\"FOOOF   $\\beta=${exponent_sub5:.2f}\")\n",
    "ax[1, 1].loglog(*fooof_plot_sub9,\n",
    "                label=rf\"FOOOF   $\\beta=${exponent_sub9:.2f}\")\n",
    "\n",
    "# Straight fit\n",
    "ax[0, 1].loglog(*straight_plot_sub5,\n",
    "                label=rf\"straight  $\\beta=${exponent_sub5_straight:.2f}\")\n",
    "ax[1, 1].loglog(*straight_plot_sub9,\n",
    "                label=rf\"straight  $\\beta=${exponent_sub9_straight:.2f}\")\n",
    "\n",
    "# Low fit\n",
    "ax[0, 1].loglog(*irasa_plot_sub5,\n",
    "                label=rf\"IRASA    $\\beta=${exponent_irasa_sub5:.2f}\")\n",
    "ax[1, 1].loglog(*irasa_plot_sub9,\n",
    "                label=rf\"IRASA    $\\beta=${exponent_irasa_sub9:.2f}\")\n",
    "\n",
    "for axes in ax.flatten():\n",
    "    axes.spines[\"top\"].set_visible(False)\n",
    "    axes.spines[\"right\"].set_visible(False)\n",
    "\n",
    "# Legend\n",
    "handles, labels = ax[0, 1].get_legend_handles_labels()\n",
    "ax[0, 0].legend(handles, labels, fontsize=legend_fontsize, handlelength=1.9)\n",
    "handles, labels = ax[1, 1].get_legend_handles_labels()\n",
    "ax[1, 0].legend(handles, labels, fontsize=legend_fontsize, handlelength=1.9)\n",
    "\n",
    "# Add Plateau rectangle\n",
    "ylim_b = (5e-3, 6)\n",
    "xlim_b = ax[1, 0].get_xlim()\n",
    "noise_start = detect_plateau_onset(freq, PSD_sub9, 50)\n",
    "rec_xy = (noise_start, ylim_b[0])\n",
    "rec_width = freq[-1] - noise_start\n",
    "rec_height = np.diff(ylim_b)[0]\n",
    "rect_c = dict(xy=rec_xy, width=rec_width, height=rec_height,\n",
    "              alpha=.15, color=\"r\")\n",
    "ax[1, 1].add_patch(plt.Rectangle(**rect_c))\n",
    "\n",
    "# Add Plateau annotation\n",
    "ax[1, 1].hlines(PSD_sub9[noise_start], noise_start, freq[-1], color=\"k\",\n",
    "                linewidth=1)\n",
    "ax[1, 1].annotate(text=\"Early\\nPlateau\\nonset\",\n",
    "                  xy=(noise_start, PSD_sub9[noise_start]),\n",
    "                  xytext=(noise_start, PSD_sub9[noise_start]*20),\n",
    "                  arrowprops=dict(arrowstyle=\"->\", shrinkB=5),\n",
    "                  color=\"k\", fontsize=8,\n",
    "                  ha=\"left\",\n",
    "                  verticalalignment=\"center\")\n",
    "\n",
    "# Add Peak width annotation\n",
    "height1 = 100\n",
    "xmin1 = center_freq_sub5_1 - peak_width_sub5_1\n",
    "xmax1 = center_freq_sub5_1 + peak_width_sub5_1\n",
    "annotate_range(ax[0, 1], xmin1, xmax1, height1, annotate_pos=\"left\")\n",
    "\n",
    "# Add Peak width annotation\n",
    "height1 = .029\n",
    "height2 = 0.009\n",
    "xmin1 = center_freq_sub9_1 - peak_width_sub9_1\n",
    "xmax1 = center_freq_sub9_1 + peak_width_sub9_1\n",
    "xmin2 = center_freq_sub9_2 - peak_width_sub9_2\n",
    "xmax2 = center_freq_sub9_2 + peak_width_sub9_2\n",
    "annotate_range(ax[1, 1], xmin1, xmax1, height1, annotate_pos=.93)\n",
    "annotate_range(ax[1, 1], xmin2, xmax2, height2, annotate_pos=.93)\n",
    "\n",
    "# Add indication of peak overlap as vertical arrow\n",
    "overlap = 15\n",
    "arr_height = 1\n",
    "ax[1, 1].annotate(text=\"\", xy=(overlap, PSD_sub9[overlap]),\n",
    "                  xytext=(overlap, 10**ap_straight_fit_sub9[overlap]),\n",
    "                  arrowprops=dict(arrowstyle=\"<->\"))\n",
    "ax[1, 1].annotate(text=\"\", xy=(center_freq_sub9_1, arr_height),\n",
    "                  xytext=(center_freq_sub9_2, arr_height),\n",
    "                  arrowprops=dict(arrowstyle=\"<->\"))\n",
    "ax[1, 1].text(s=\"Broad\\nPeak\\nWidths:\", x=1, y=(height1+height2)/2, ha=\"left\",\n",
    "              va=\"center\", fontsize=8)\n",
    "ax[1, 1].text(s=\"Peak\\nOverlap\", x=overlap, y=arr_height*.9, ha=\"left\",\n",
    "              va=\"top\", fontsize=8)\n",
    "\n",
    "# Annotate orders of magnitude\n",
    "diff5 = PSD_sub5[0] / PSD_sub5.min()\n",
    "ord_magn5 = int(np.round(np.log10(diff5)))\n",
    "x_line = -25\n",
    "ax[0, 0].annotate(text=\"\",\n",
    "                  xy=(x_line, PSD_sub5[0]),\n",
    "                  xytext=(x_line, PSD_sub5.min()),\n",
    "                  arrowprops=dict(arrowstyle=\"|-|,widthA=.5,widthB=.5\",\n",
    "                                  lw=1.3),\n",
    "                  ha=\"center\")\n",
    "ax[0, 0].text(s=rf\"$\\Delta PSD\\approx 10^{{{ord_magn5}}}$\", x=30,\n",
    "              y=np.sqrt(PSD_sub5[0]*PSD_sub5[-1]), va=\"center\", fontsize=8)\n",
    "\n",
    "diff9 = PSD_sub9[0] / PSD_sub9.min()\n",
    "ord_magn9 = int(np.round(np.log10(diff9)))\n",
    "x_line = -25\n",
    "ax[1, 0].annotate(text=\"\",\n",
    "                  xy=(x_line, PSD_sub9[0]),\n",
    "                  xytext=(x_line, PSD_sub9.min()),\n",
    "                  arrowprops=dict(arrowstyle=\"|-|,widthA=.5,widthB=.5\",\n",
    "                                  lw=1.3), ha=\"center\")\n",
    "ax[1, 0].text(s=rf\"$\\Delta PSD\\approx 10^{{{ord_magn9}}}$\", x=55,\n",
    "              y=np.sqrt(PSD_sub9[0]*PSD_sub9[-1]), va=\"center\", fontsize=8)\n",
    "\n",
    "xlim5 = ax[0, 0].get_xlim()\n",
    "xlim9 = ax[1, 0].get_xlim()\n",
    "ax[0, 0].set(xlabel=None, ylabel=\"A.U. Voxel Data\", xlim=(-50, xlim5[1]))\n",
    "ax[1, 0].set(xlabel=None, ylabel=None, xlim=(-50, xlim9[1]))\n",
    "ax[1, 0].set(xlabel=\"Frequency [Hz]\", ylabel=r\"PSD [$\\mu$$V^2/Hz$]\")\n",
    "ax[1, 1].set(xlabel=\"Frequency [Hz]\", ylabel=None, ylim=ylim_b)\n",
    "ax[0, 0].text(s=\"a\", **panel_labels, transform=ax[0, 0].transAxes)\n",
    "ax[1, 0].text(s=\"b\", **panel_labels, transform=ax[1, 0].transAxes)\n",
    "\n",
    "plt.tight_layout()\n",
    "plt.savefig(fig_path + \"Fig8.pdf\", bbox_inches=\"tight\")\n",
    "plt.savefig(fig_path + \"Fig8.png\", dpi=1000, bbox_inches=\"tight\")\n",
    "plt.show()"
   ],
   "outputs": [
    {
     "output_type": "display_data",
     "data": {
      "image/png": "[encoded data removed]",
      "text/plain": [
       "<Figure size 493.2x360 with 4 Axes>"
      ]
     },
     "metadata": {
      "needs_background": "light"
     }
    }
   ],
   "metadata": {}
  }
 ],
 "metadata": {
  "orig_nbformat": 4,
  "language_info": {
   "name": "python",
   "version": "3.9.7",
   "mimetype": "text/x-python",
   "codemirror_mode": {
    "name": "ipython",
    "version": 3
   },
   "pygments_lexer": "ipython3",
   "nbconvert_exporter": "python",
   "file_extension": ".py"
  },
  "kernelspec": {
   "name": "python3",
   "display_name": "Python 3.9.7 64-bit ('one-over-f': conda)"
  },
  "interpreter": {
   "hash": "116b630a5ed3536a41a411284f2f012869aa7a814e09f3175ad417d37e36da32"
  }
 },
 "nbformat": 4,
 "nbformat_minor": 2
}